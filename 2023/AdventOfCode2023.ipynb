{
  "cells": [
    {
      "cell_type": "markdown",
      "metadata": {
        "id": "JwoBMF0ZC0kx"
      },
      "source": [
        "# Advent of code 2023"
      ]
    },
    {
      "cell_type": "markdown",
      "metadata": {
        "id": "ng94SlkfC4Kh"
      },
      "source": [
        "## Day 1\n",
        "\n",
        "See [here](https://adventofcode.com/2023/day/1)."
      ]
    },
    {
      "cell_type": "code",
      "execution_count": 1,
      "metadata": {
        "colab": {
          "base_uri": "https://localhost:8080/"
        },
        "id": "8WXuNw9AB4Dr",
        "outputId": "819b6b85-a503-4f71-fba3-7aa3ba20988a"
      },
      "outputs": [
        {
          "name": "stdout",
          "output_type": "stream",
          "text": [
            "The sum of all the calibration values is 54940\n"
          ]
        }
      ],
      "source": [
        "import re\n",
        "\n",
        "total = 0\n",
        "\n",
        "with open(\"day1input.txt\", \"r\") as fp:\n",
        "    for line in fp.readlines():\n",
        "        nums = re.findall(\"\\d\", line.strip())\n",
        "        total += int(nums[0] + nums[-1])\n",
        "\n",
        "print(f\"The sum of all the calibration values is {total}\")"
      ]
    },
    {
      "cell_type": "code",
      "execution_count": 30,
      "metadata": {},
      "outputs": [
        {
          "name": "stdout",
          "output_type": "stream",
          "text": [
            "The sum of all the calibration values is 54208\n"
          ]
        }
      ],
      "source": [
        "# mapping between words and numbers\n",
        "replacements = {\n",
        "    \"one\": \"1\",\n",
        "    \"two\": \"2\",\n",
        "    \"three\": \"3\",\n",
        "    \"four\": \"4\",\n",
        "    \"five\": \"5\",\n",
        "    \"six\": \"6\",\n",
        "    \"seven\": \"7\",\n",
        "    \"eight\": \"8\",\n",
        "    \"nine\": \"9\"\n",
        "}\n",
        "\n",
        "total = 0\n",
        "\n",
        "with open(\"day1input.txt\", \"r\") as fp:\n",
        "    for line in fp.readlines():\n",
        "        line = line.strip()\n",
        "\n",
        "        # get all matches to each number (each sorted in order they appear)\n",
        "        matches = {\n",
        "            r: sorted([m.span() for m in re.finditer(r, line)] + [m.span() for m in re.finditer(replacements[r], line)])\n",
        "            for r in replacements\n",
        "        }\n",
        "\n",
        "        # get the first and last number\n",
        "        first = None\n",
        "        last = None\n",
        "        mini = len(line)\n",
        "        maxi = 0\n",
        "        for r in matches:\n",
        "            if matches[r]:\n",
        "                if matches[r][0][0] < mini:\n",
        "                    mini = matches[r][0][0]\n",
        "                    first = replacements[r]\n",
        "                if matches[r][-1][-1] > maxi:\n",
        "                    maxi = matches[r][-1][-1]\n",
        "                    last = replacements[r]\n",
        "\n",
        "        total += int(first + last)\n",
        "\n",
        "print(f\"The sum of all the calibration values is {total}\")"
      ]
    },
    {
      "cell_type": "markdown",
      "metadata": {},
      "source": [
        "## Day 2\n",
        "\n",
        "See [here](https://adventofcode.com/2023/day/2)."
      ]
    },
    {
      "cell_type": "code",
      "execution_count": 42,
      "metadata": {},
      "outputs": [
        {
          "name": "stdout",
          "output_type": "stream",
          "text": [
            "The sum of the IDs of the possible games is 2447\n"
          ]
        }
      ],
      "source": [
        "games = {}\n",
        "\n",
        "colours = [\"red\", \"green\", \"blue\"]\n",
        "\n",
        "# parse the input\n",
        "with open(\"day2input.txt\", \"r\") as fp:\n",
        "    for line in fp.readlines():\n",
        "        idgame = line.strip().split(\":\")\n",
        "        id = idgame[0].split()[-1]\n",
        "        gamesplit = idgame[1].split(\";\")\n",
        "\n",
        "        games[id] = []\n",
        "\n",
        "        for g in gamesplit:\n",
        "            counts = {c: 0 for c in colours}\n",
        "\n",
        "            for gg in g.split(\",\"):\n",
        "                for colour in colours:\n",
        "                    if colour in gg:\n",
        "                        counts[colour] = int(gg.split()[0])\n",
        "                        break\n",
        "\n",
        "            games[id].append(counts)\n",
        "\n",
        "allowedcounts = {\"red\": 12, \"green\": 13, \"blue\": 14}\n",
        "\n",
        "total = 0\n",
        "for gid in games:\n",
        "    possible = True\n",
        "    for c in colours:\n",
        "        if any(g[c] > allowedcounts[c] for g in games[gid]):\n",
        "            possible = False\n",
        "            break\n",
        "\n",
        "    if possible:\n",
        "        total += int(gid)\n",
        "\n",
        "print(f\"The sum of the IDs of the possible games is {total}\")"
      ]
    },
    {
      "cell_type": "code",
      "execution_count": 43,
      "metadata": {},
      "outputs": [
        {
          "name": "stdout",
          "output_type": "stream",
          "text": [
            "The sum of the power of the games is 56322\n"
          ]
        }
      ],
      "source": [
        "total = 0\n",
        "\n",
        "for gid in games:\n",
        "    power = 1\n",
        "    for c in colours:\n",
        "        power *= int(max(g[c] for g in games[gid]))\n",
        "\n",
        "    total += power\n",
        "\n",
        "print(f\"The sum of the power of the games is {total}\")"
      ]
    },
    {
      "cell_type": "markdown",
      "metadata": {},
      "source": [
        "## Day 3\n",
        "\n",
        "See [here](https://adventofcode.com/2023/day/3)."
      ]
    },
    {
      "cell_type": "code",
      "execution_count": 101,
      "metadata": {},
      "outputs": [
        {
          "name": "stdout",
          "output_type": "stream",
          "text": [
            "The sum of the part numbers is 559667\n"
          ]
        }
      ],
      "source": [
        "import numpy as np\n",
        "\n",
        "with open(\"day3input.txt\", \"r\") as fp:\n",
        "    inputdata = [list(l.strip()) for l in fp.readlines()]\n",
        "\n",
        "input = np.asarray(inputdata)\n",
        "\n",
        "# get the symbol characters\n",
        "chars = list(s for s in set(\"\".join(input.flatten()))if s not in [str(r) for r in range(10)] + [\".\"])\n",
        "\n",
        "nums = [str(n) for n in range(10)]\n",
        "\n",
        "# get a list of all numbers and their boundries\n",
        "engparts = []\n",
        "for i, line in enumerate(input):\n",
        "    j = 0\n",
        "    num = \"\"\n",
        "    while j <= len(line):\n",
        "        if j < len(line) and input[i, j] in nums:\n",
        "            num += input[i, j]\n",
        "        elif num:\n",
        "            # check if number has character in boudary\n",
        "            boundaryy = range(max(0, j - len(num) - 1), min(j + 1, input.shape[1]))\n",
        "            boundaryx = range(max(0, i - 1), min(i + 2, input.shape[0]))\n",
        "            nparts = len(engparts)\n",
        "\n",
        "            for x in boundaryx:\n",
        "                for y in boundaryy:\n",
        "                    if input[x, y] in chars:\n",
        "                        # add in part\n",
        "                        engparts.append(int(num))\n",
        "                        break\n",
        "                if len(engparts) > nparts:\n",
        "                    break\n",
        "            num = \"\"\n",
        "\n",
        "        j += 1\n",
        "\n",
        "partsum = sum(engparts)\n",
        "\n",
        "print(f\"The sum of the part numbers is {partsum}\")"
      ]
    },
    {
      "cell_type": "code",
      "execution_count": 119,
      "metadata": {},
      "outputs": [
        {
          "name": "stdout",
          "output_type": "stream",
          "text": [
            "Sum of all the gear ratios is 86841457\n"
          ]
        }
      ],
      "source": [
        "# get the locations of all the gears\n",
        "gearlocs = np.argwhere(input == \"*\")\n",
        "\n",
        "nums = [str(n) for n in range(10)]\n",
        "\n",
        "# get locations of all numbers on each line\n",
        "numlocs = []\n",
        "for i, line in enumerate(input):\n",
        "    j = 0\n",
        "    numlocs.append([])\n",
        "    num = \"\"\n",
        "    while j <= len(line):\n",
        "        if j < len(line) and input[i, j] in nums:\n",
        "            num += input[i, j]\n",
        "        elif num:\n",
        "            # get the index span of the numbers\n",
        "            numlocs[-1].append((int(num), [j - len(num), j - 1]))\n",
        "            num = \"\"\n",
        "        j += 1\n",
        "\n",
        "# loop over gear locations\n",
        "gratios = []\n",
        "for gl in gearlocs:\n",
        "    idx = gl[0]\n",
        "\n",
        "    # check numbers in lines around the gear\n",
        "    gnums = []\n",
        "    for i in range(max(0, idx - 1), min(idx + 2, input.shape[0])):\n",
        "        for n in numlocs[i]:\n",
        "            if n[1][0] - 1 <= gl[1] <= n[1][1] + 1:\n",
        "                gnums.append(n[0])\n",
        "\n",
        "    if len(gnums) == 2:\n",
        "        gratios.append(gnums[0] * gnums[1])\n",
        "\n",
        "grattotal = sum(gratios)\n",
        "\n",
        "print(f\"Sum of all the gear ratios is {grattotal}\")"
      ]
    },
    {
      "cell_type": "markdown",
      "metadata": {},
      "source": [
        "## Day 4\n",
        "\n",
        "See [here](https://adventofcode.com/2023/day/4)."
      ]
    },
    {
      "cell_type": "code",
      "execution_count": 126,
      "metadata": {},
      "outputs": [
        {
          "name": "stdout",
          "output_type": "stream",
          "text": [
            "The total number of points is 22488\n"
          ]
        }
      ],
      "source": [
        "totpoints = 0\n",
        "\n",
        "with open(\"day4input.txt\", \"r\") as fp:\n",
        "    for line in fp.readlines():\n",
        "        numbers = line.strip().split(\":\")[1]\n",
        "        winning, mynums = numbers.split(\"|\")\n",
        "        winning = [int(n) for n in winning.split()]\n",
        "        mynums = [int(n) for n in mynums.split()]\n",
        "        \n",
        "        nwin = sum([mn in winning for mn in mynums])\n",
        "        if nwin > 0:\n",
        "            totpoints += 2**(nwin - 1)\n",
        "\n",
        "print(f\"The total number of points is {totpoints}\")"
      ]
    },
    {
      "cell_type": "code",
      "execution_count": 7,
      "metadata": {},
      "outputs": [
        {
          "name": "stdout",
          "output_type": "stream",
          "text": [
            "The total number of scratch cards is 7013204\n"
          ]
        }
      ],
      "source": [
        "# parse number of wins for each card\n",
        "numwins = {}\n",
        "\n",
        "with open(\"day4input.txt\", \"r\") as fp:\n",
        "    cards = [l.strip().split(\":\")[1] for l in fp.readlines()]\n",
        "\n",
        "ncopies = {}\n",
        "for i, card in enumerate(cards):\n",
        "    winning, mynums = card.split(\"|\")\n",
        "    winning = [int(n) for n in winning.split()]\n",
        "    mynums = [int(n) for n in mynums.split()]\n",
        "    nwin = sum([mn in winning for mn in mynums])\n",
        "\n",
        "    numwins[i + 1] = nwin\n",
        "    ncopies[i + 1] = 1  # add original cards\n",
        "\n",
        "for i in ncopies:\n",
        "    n = numwins[i]\n",
        "    for _ in range(ncopies[i]):\n",
        "        for j in range(n):\n",
        "            idx = i + j + 1\n",
        "            ncopies[idx] += 1\n",
        "    \n",
        "nscratchcards = sum(ncopies.values())\n",
        "\n",
        "print(f\"The total number of scratch cards is {nscratchcards}\")"
      ]
    },
    {
      "cell_type": "markdown",
      "metadata": {},
      "source": [
        "## Day 5\n",
        "\n",
        "See [here](https://adventofcode.com/2023/day/5)."
      ]
    },
    {
      "cell_type": "code",
      "execution_count": 26,
      "metadata": {},
      "outputs": [
        {
          "name": "stdout",
          "output_type": "stream",
          "text": [
            "The closest location is 199602917\n"
          ]
        }
      ],
      "source": [
        "with open(\"day5input.txt\", \"r\") as fp:\n",
        "    inputs = fp.readlines()\n",
        "\n",
        "seeds = [int(s) for s in inputs[0].split(\":\")[1].strip().split()]\n",
        "\n",
        "class Mapping:\n",
        "    def __init__(self, dests, sources, lengths):\n",
        "        self.dest = dests\n",
        "        self.source = sources\n",
        "        self.length = lengths\n",
        "\n",
        "    def __call__(self, val, reverse=False):\n",
        "        for d, s, l in zip(\n",
        "            self.source if reverse else self.dest,\n",
        "            self.dest if reverse else self.source,\n",
        "            self.length\n",
        "        ):\n",
        "            if s <= val <= s + l:\n",
        "                diff = val - s\n",
        "                return d + diff\n",
        "\n",
        "        # no mapping given\n",
        "        return val\n",
        "\n",
        "\n",
        "maps = {}\n",
        "\n",
        "i = 1\n",
        "while i < len(inputs):\n",
        "    if inputs[i].startswith(\"\\n\"):\n",
        "        i += 1\n",
        "        continue\n",
        "\n",
        "    if inputs[i].strip().endswith(\":\"):\n",
        "        # start collecting values\n",
        "        mapname = inputs[i].split()[0].strip()\n",
        "        i += 1\n",
        "\n",
        "        dests = []\n",
        "        sources = []\n",
        "        lengths = []\n",
        "        while i < len(inputs) and not inputs[i].startswith(\"\\n\"):\n",
        "            d, s, l = inputs[i].strip().split()\n",
        "            dests.append(int(d))\n",
        "            sources.append(int(s))\n",
        "            lengths.append(int(l))\n",
        "            i += 1\n",
        "\n",
        "        maps[mapname] = Mapping(dests, sources, lengths)\n",
        "\n",
        "\n",
        "locs = []\n",
        "for seed in seeds:\n",
        "    sv = seed\n",
        "    for map in maps:\n",
        "        sv = maps[map](sv)\n",
        "    locs.append(sv)\n",
        "\n",
        "minloc = min(locs)\n",
        "\n",
        "print(f\"The closest location is {minloc}\")"
      ]
    },
    {
      "cell_type": "code",
      "execution_count": 27,
      "metadata": {},
      "outputs": [
        {
          "name": "stdout",
          "output_type": "stream",
          "text": [
            "The lowest location corresponding to a seed is 2254686\n"
          ]
        }
      ],
      "source": [
        "# reverse the mappings\n",
        "revmapnames = list(maps.keys())[::-1]\n",
        "\n",
        "# get seed pairs\n",
        "seedpairs = [(seeds[i], seeds[i] + seeds[i + 1]) for i in range(0, len(seeds), 2)]\n",
        "\n",
        "# run through locations (from 0) until one matches a seed range\n",
        "loc = 0\n",
        "while True:\n",
        "    ll = loc\n",
        "    # got through maps in reverse\n",
        "    for map in revmapnames:\n",
        "        ll = maps[map](ll, reverse=True)\n",
        "\n",
        "    # check if we have a seed\n",
        "    seedfound = False\n",
        "    for sp in seedpairs:\n",
        "        if sp[0] <= ll <= sp[1]:\n",
        "            seedfound = True\n",
        "            break\n",
        "\n",
        "    if seedfound:\n",
        "        break\n",
        "\n",
        "    loc += 1\n",
        "\n",
        "print(f\"The lowest location corresponding to a seed is {loc}\")"
      ]
    }
  ],
  "metadata": {
    "colab": {
      "provenance": []
    },
    "kernelspec": {
      "display_name": "Python 3",
      "name": "python3"
    },
    "language_info": {
      "codemirror_mode": {
        "name": "ipython",
        "version": 3
      },
      "file_extension": ".py",
      "mimetype": "text/x-python",
      "name": "python",
      "nbconvert_exporter": "python",
      "pygments_lexer": "ipython3",
      "version": "3.9.13"
    }
  },
  "nbformat": 4,
  "nbformat_minor": 0
}
