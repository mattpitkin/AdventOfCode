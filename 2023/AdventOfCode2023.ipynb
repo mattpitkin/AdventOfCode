{
  "cells": [
    {
      "cell_type": "markdown",
      "metadata": {
        "id": "JwoBMF0ZC0kx"
      },
      "source": [
        "# Advent of code 2023"
      ]
    },
    {
      "cell_type": "markdown",
      "metadata": {
        "id": "ng94SlkfC4Kh"
      },
      "source": [
        "## Day 1\n",
        "\n",
        "See [here](https://adventofcode.com/2023/day/1)."
      ]
    },
    {
      "cell_type": "code",
      "execution_count": 1,
      "metadata": {
        "colab": {
          "base_uri": "https://localhost:8080/"
        },
        "id": "8WXuNw9AB4Dr",
        "outputId": "819b6b85-a503-4f71-fba3-7aa3ba20988a"
      },
      "outputs": [
        {
          "name": "stdout",
          "output_type": "stream",
          "text": [
            "The sum of all the calibration values is 54940\n"
          ]
        }
      ],
      "source": [
        "import re\n",
        "\n",
        "total = 0\n",
        "\n",
        "with open(\"day1input.txt\", \"r\") as fp:\n",
        "    for line in fp.readlines():\n",
        "        nums = re.findall(\"\\d\", line.strip())\n",
        "        total += int(nums[0] + nums[-1])\n",
        "\n",
        "print(f\"The sum of all the calibration values is {total}\")"
      ]
    },
    {
      "cell_type": "code",
      "execution_count": 2,
      "metadata": {},
      "outputs": [
        {
          "name": "stdout",
          "output_type": "stream",
          "text": [
            "The sum of all the calibration values is 54208\n"
          ]
        }
      ],
      "source": [
        "# mapping between words and numbers\n",
        "replacements = {\n",
        "    \"one\": \"1\",\n",
        "    \"two\": \"2\",\n",
        "    \"three\": \"3\",\n",
        "    \"four\": \"4\",\n",
        "    \"five\": \"5\",\n",
        "    \"six\": \"6\",\n",
        "    \"seven\": \"7\",\n",
        "    \"eight\": \"8\",\n",
        "    \"nine\": \"9\"\n",
        "}\n",
        "\n",
        "total = 0\n",
        "\n",
        "with open(\"day1input.txt\", \"r\") as fp:\n",
        "    for line in fp.readlines():\n",
        "        line = line.strip()\n",
        "\n",
        "        # get all matches to each number (each sorted in order they appear)\n",
        "        matches = {\n",
        "            r: sorted([m.span() for m in re.finditer(r, line)] + [m.span() for m in re.finditer(replacements[r], line)])\n",
        "            for r in replacements\n",
        "        }\n",
        "\n",
        "        # get the first and last number\n",
        "        first = None\n",
        "        last = None\n",
        "        mini = len(line)\n",
        "        maxi = 0\n",
        "        for r in matches:\n",
        "            if matches[r]:\n",
        "                if matches[r][0][0] < mini:\n",
        "                    mini = matches[r][0][0]\n",
        "                    first = replacements[r]\n",
        "                if matches[r][-1][-1] > maxi:\n",
        "                    maxi = matches[r][-1][-1]\n",
        "                    last = replacements[r]\n",
        "\n",
        "        total += int(first + last)\n",
        "\n",
        "print(f\"The sum of all the calibration values is {total}\")"
      ]
    },
    {
      "cell_type": "markdown",
      "metadata": {},
      "source": [
        "## Day 2\n",
        "\n",
        "See [here](https://adventofcode.com/2023/day/2)."
      ]
    },
    {
      "cell_type": "code",
      "execution_count": 3,
      "metadata": {},
      "outputs": [
        {
          "name": "stdout",
          "output_type": "stream",
          "text": [
            "The sum of the IDs of the possible games is 2447\n"
          ]
        }
      ],
      "source": [
        "games = {}\n",
        "\n",
        "colours = [\"red\", \"green\", \"blue\"]\n",
        "\n",
        "# parse the input\n",
        "with open(\"day2input.txt\", \"r\") as fp:\n",
        "    for line in fp.readlines():\n",
        "        idgame = line.strip().split(\":\")\n",
        "        id = idgame[0].split()[-1]\n",
        "        gamesplit = idgame[1].split(\";\")\n",
        "\n",
        "        games[id] = []\n",
        "\n",
        "        for g in gamesplit:\n",
        "            counts = {c: 0 for c in colours}\n",
        "\n",
        "            for gg in g.split(\",\"):\n",
        "                for colour in colours:\n",
        "                    if colour in gg:\n",
        "                        counts[colour] = int(gg.split()[0])\n",
        "                        break\n",
        "\n",
        "            games[id].append(counts)\n",
        "\n",
        "allowedcounts = {\"red\": 12, \"green\": 13, \"blue\": 14}\n",
        "\n",
        "total = 0\n",
        "for gid in games:\n",
        "    possible = True\n",
        "    for c in colours:\n",
        "        if any(g[c] > allowedcounts[c] for g in games[gid]):\n",
        "            possible = False\n",
        "            break\n",
        "\n",
        "    if possible:\n",
        "        total += int(gid)\n",
        "\n",
        "print(f\"The sum of the IDs of the possible games is {total}\")"
      ]
    },
    {
      "cell_type": "code",
      "execution_count": 4,
      "metadata": {},
      "outputs": [
        {
          "name": "stdout",
          "output_type": "stream",
          "text": [
            "The sum of the power of the games is 56322\n"
          ]
        }
      ],
      "source": [
        "total = 0\n",
        "\n",
        "for gid in games:\n",
        "    power = 1\n",
        "    for c in colours:\n",
        "        power *= int(max(g[c] for g in games[gid]))\n",
        "\n",
        "    total += power\n",
        "\n",
        "print(f\"The sum of the power of the games is {total}\")"
      ]
    },
    {
      "cell_type": "markdown",
      "metadata": {},
      "source": [
        "## Day 3\n",
        "\n",
        "See [here](https://adventofcode.com/2023/day/3)."
      ]
    },
    {
      "cell_type": "code",
      "execution_count": 5,
      "metadata": {},
      "outputs": [
        {
          "name": "stdout",
          "output_type": "stream",
          "text": [
            "The sum of the part numbers is 559667\n"
          ]
        }
      ],
      "source": [
        "import numpy as np\n",
        "\n",
        "with open(\"day3input.txt\", \"r\") as fp:\n",
        "    inputdata = [list(l.strip()) for l in fp.readlines()]\n",
        "\n",
        "input = np.asarray(inputdata)\n",
        "\n",
        "# get the symbol characters\n",
        "chars = list(s for s in set(\"\".join(input.flatten()))if s not in [str(r) for r in range(10)] + [\".\"])\n",
        "\n",
        "nums = [str(n) for n in range(10)]\n",
        "\n",
        "# get a list of all numbers and their boundries\n",
        "engparts = []\n",
        "for i, line in enumerate(input):\n",
        "    j = 0\n",
        "    num = \"\"\n",
        "    while j <= len(line):\n",
        "        if j < len(line) and input[i, j] in nums:\n",
        "            num += input[i, j]\n",
        "        elif num:\n",
        "            # check if number has character in boudary\n",
        "            boundaryy = range(max(0, j - len(num) - 1), min(j + 1, input.shape[1]))\n",
        "            boundaryx = range(max(0, i - 1), min(i + 2, input.shape[0]))\n",
        "            nparts = len(engparts)\n",
        "\n",
        "            for x in boundaryx:\n",
        "                for y in boundaryy:\n",
        "                    if input[x, y] in chars:\n",
        "                        # add in part\n",
        "                        engparts.append(int(num))\n",
        "                        break\n",
        "                if len(engparts) > nparts:\n",
        "                    break\n",
        "            num = \"\"\n",
        "\n",
        "        j += 1\n",
        "\n",
        "partsum = sum(engparts)\n",
        "\n",
        "print(f\"The sum of the part numbers is {partsum}\")"
      ]
    },
    {
      "cell_type": "code",
      "execution_count": 6,
      "metadata": {},
      "outputs": [
        {
          "name": "stdout",
          "output_type": "stream",
          "text": [
            "Sum of all the gear ratios is 86841457\n"
          ]
        }
      ],
      "source": [
        "# get the locations of all the gears\n",
        "gearlocs = np.argwhere(input == \"*\")\n",
        "\n",
        "nums = [str(n) for n in range(10)]\n",
        "\n",
        "# get locations of all numbers on each line\n",
        "numlocs = []\n",
        "for i, line in enumerate(input):\n",
        "    j = 0\n",
        "    numlocs.append([])\n",
        "    num = \"\"\n",
        "    while j <= len(line):\n",
        "        if j < len(line) and input[i, j] in nums:\n",
        "            num += input[i, j]\n",
        "        elif num:\n",
        "            # get the index span of the numbers\n",
        "            numlocs[-1].append((int(num), [j - len(num), j - 1]))\n",
        "            num = \"\"\n",
        "        j += 1\n",
        "\n",
        "# loop over gear locations\n",
        "gratios = []\n",
        "for gl in gearlocs:\n",
        "    idx = gl[0]\n",
        "\n",
        "    # check numbers in lines around the gear\n",
        "    gnums = []\n",
        "    for i in range(max(0, idx - 1), min(idx + 2, input.shape[0])):\n",
        "        for n in numlocs[i]:\n",
        "            if n[1][0] - 1 <= gl[1] <= n[1][1] + 1:\n",
        "                gnums.append(n[0])\n",
        "\n",
        "    if len(gnums) == 2:\n",
        "        gratios.append(gnums[0] * gnums[1])\n",
        "\n",
        "grattotal = sum(gratios)\n",
        "\n",
        "print(f\"Sum of all the gear ratios is {grattotal}\")"
      ]
    },
    {
      "cell_type": "markdown",
      "metadata": {},
      "source": [
        "## Day 4\n",
        "\n",
        "See [here](https://adventofcode.com/2023/day/4)."
      ]
    },
    {
      "cell_type": "code",
      "execution_count": 7,
      "metadata": {},
      "outputs": [
        {
          "name": "stdout",
          "output_type": "stream",
          "text": [
            "The total number of points is 22488\n"
          ]
        }
      ],
      "source": [
        "totpoints = 0\n",
        "\n",
        "with open(\"day4input.txt\", \"r\") as fp:\n",
        "    for line in fp.readlines():\n",
        "        numbers = line.strip().split(\":\")[1]\n",
        "        winning, mynums = numbers.split(\"|\")\n",
        "        winning = [int(n) for n in winning.split()]\n",
        "        mynums = [int(n) for n in mynums.split()]\n",
        "        \n",
        "        nwin = sum([mn in winning for mn in mynums])\n",
        "        if nwin > 0:\n",
        "            totpoints += 2**(nwin - 1)\n",
        "\n",
        "print(f\"The total number of points is {totpoints}\")"
      ]
    },
    {
      "cell_type": "code",
      "execution_count": 8,
      "metadata": {},
      "outputs": [
        {
          "name": "stdout",
          "output_type": "stream",
          "text": [
            "The total number of scratch cards is 7013204\n"
          ]
        }
      ],
      "source": [
        "# parse number of wins for each card\n",
        "numwins = {}\n",
        "\n",
        "with open(\"day4input.txt\", \"r\") as fp:\n",
        "    cards = [l.strip().split(\":\")[1] for l in fp.readlines()]\n",
        "\n",
        "ncopies = {}\n",
        "for i, card in enumerate(cards):\n",
        "    winning, mynums = card.split(\"|\")\n",
        "    winning = [int(n) for n in winning.split()]\n",
        "    mynums = [int(n) for n in mynums.split()]\n",
        "    nwin = sum([mn in winning for mn in mynums])\n",
        "\n",
        "    numwins[i + 1] = nwin\n",
        "    ncopies[i + 1] = 1  # add original cards\n",
        "\n",
        "for i in ncopies:\n",
        "    n = numwins[i]\n",
        "    for _ in range(ncopies[i]):\n",
        "        for j in range(n):\n",
        "            idx = i + j + 1\n",
        "            ncopies[idx] += 1\n",
        "    \n",
        "nscratchcards = sum(ncopies.values())\n",
        "\n",
        "print(f\"The total number of scratch cards is {nscratchcards}\")"
      ]
    },
    {
      "cell_type": "markdown",
      "metadata": {},
      "source": [
        "## Day 5\n",
        "\n",
        "See [here](https://adventofcode.com/2023/day/5)."
      ]
    },
    {
      "cell_type": "code",
      "execution_count": 9,
      "metadata": {},
      "outputs": [
        {
          "name": "stdout",
          "output_type": "stream",
          "text": [
            "The closest location is 199602917\n"
          ]
        }
      ],
      "source": [
        "with open(\"day5input.txt\", \"r\") as fp:\n",
        "    inputs = fp.readlines()\n",
        "\n",
        "seeds = [int(s) for s in inputs[0].split(\":\")[1].strip().split()]\n",
        "\n",
        "class Mapping:\n",
        "    def __init__(self, dests, sources, lengths):\n",
        "        self.dest = dests\n",
        "        self.source = sources\n",
        "        self.length = lengths\n",
        "\n",
        "    def __call__(self, val, reverse=False):\n",
        "        for d, s, l in zip(\n",
        "            self.source if reverse else self.dest,\n",
        "            self.dest if reverse else self.source,\n",
        "            self.length\n",
        "        ):\n",
        "            if s <= val <= s + l:\n",
        "                diff = val - s\n",
        "                return d + diff\n",
        "\n",
        "        # no mapping given\n",
        "        return val\n",
        "\n",
        "\n",
        "maps = {}\n",
        "\n",
        "i = 1\n",
        "while i < len(inputs):\n",
        "    if inputs[i].startswith(\"\\n\"):\n",
        "        i += 1\n",
        "        continue\n",
        "\n",
        "    if inputs[i].strip().endswith(\":\"):\n",
        "        # start collecting values\n",
        "        mapname = inputs[i].split()[0].strip()\n",
        "        i += 1\n",
        "\n",
        "        dests = []\n",
        "        sources = []\n",
        "        lengths = []\n",
        "        while i < len(inputs) and not inputs[i].startswith(\"\\n\"):\n",
        "            d, s, l = inputs[i].strip().split()\n",
        "            dests.append(int(d))\n",
        "            sources.append(int(s))\n",
        "            lengths.append(int(l))\n",
        "            i += 1\n",
        "\n",
        "        maps[mapname] = Mapping(dests, sources, lengths)\n",
        "\n",
        "\n",
        "locs = []\n",
        "for seed in seeds:\n",
        "    sv = seed\n",
        "    for map in maps:\n",
        "        sv = maps[map](sv)\n",
        "    locs.append(sv)\n",
        "\n",
        "minloc = min(locs)\n",
        "\n",
        "print(f\"The closest location is {minloc}\")"
      ]
    },
    {
      "cell_type": "code",
      "execution_count": 10,
      "metadata": {},
      "outputs": [
        {
          "name": "stdout",
          "output_type": "stream",
          "text": [
            "The lowest location corresponding to a seed is 2254686\n"
          ]
        }
      ],
      "source": [
        "# reverse the mappings\n",
        "revmapnames = list(maps.keys())[::-1]\n",
        "\n",
        "# get seed pairs\n",
        "seedpairs = [(seeds[i], seeds[i] + seeds[i + 1]) for i in range(0, len(seeds), 2)]\n",
        "\n",
        "# run through locations (from 0) until one matches a seed range\n",
        "loc = 0\n",
        "while True:\n",
        "    ll = loc\n",
        "    # got through maps in reverse\n",
        "    for map in revmapnames:\n",
        "        ll = maps[map](ll, reverse=True)\n",
        "\n",
        "    # check if we have a seed\n",
        "    seedfound = False\n",
        "    for sp in seedpairs:\n",
        "        if sp[0] <= ll <= sp[1]:\n",
        "            seedfound = True\n",
        "            break\n",
        "\n",
        "    if seedfound:\n",
        "        break\n",
        "\n",
        "    loc += 1\n",
        "\n",
        "print(f\"The lowest location corresponding to a seed is {loc}\")"
      ]
    },
    {
      "cell_type": "markdown",
      "metadata": {},
      "source": [
        "## Day 6\n",
        "\n",
        "See [here](https://adventofcode.com/2023/day/6)."
      ]
    },
    {
      "cell_type": "code",
      "execution_count": 11,
      "metadata": {},
      "outputs": [
        {
          "name": "stdout",
          "output_type": "stream",
          "text": [
            "Product of ways to win is 1312850\n"
          ]
        }
      ],
      "source": [
        "import numpy as np\n",
        "\n",
        "with open(\"day6input.txt\", \"r\") as fp:\n",
        "    lines = fp.readlines()\n",
        "\n",
        "times = [int(t) for t in lines[0].strip().split(\":\")[1].split()]\n",
        "distances = [int(d) for d in lines[1].strip().split(\":\")[1].split()]\n",
        "\n",
        "numwins = []\n",
        "\n",
        "for t, d in zip(times, distances):\n",
        "    wins = 0\n",
        "    for v in range(t + 1):\n",
        "        tleft = t - v\n",
        "        dist = v * tleft\n",
        "\n",
        "        if dist > d:\n",
        "            wins += 1\n",
        "\n",
        "    numwins.append(wins)\n",
        "\n",
        "print(f\"Product of ways to win is {np.prod(numwins)}\")"
      ]
    },
    {
      "cell_type": "code",
      "execution_count": 12,
      "metadata": {},
      "outputs": [
        {
          "name": "stdout",
          "output_type": "stream",
          "text": [
            "Number of ways to win is 36749103\n"
          ]
        }
      ],
      "source": [
        "time = int(\"\".join([str(t) for t in times]))\n",
        "disttot = int(\"\".join([str(d) for d in distances]))\n",
        "\n",
        "wins = 0\n",
        "for v in range(time + 1):\n",
        "    tleft = time - v\n",
        "    dist = v * tleft\n",
        "\n",
        "    if dist > disttot:\n",
        "        wins += 1\n",
        "\n",
        "print(f\"Number of ways to win is {wins}\")"
      ]
    },
    {
      "cell_type": "markdown",
      "metadata": {},
      "source": [
        "## Day 7\n",
        "\n",
        "See [here](https://adventofcode.com/2023/day/7)."
      ]
    },
    {
      "cell_type": "code",
      "execution_count": 13,
      "metadata": {},
      "outputs": [
        {
          "name": "stdout",
          "output_type": "stream",
          "text": [
            "The total winnings are 246424613\n"
          ]
        }
      ],
      "source": [
        "from functools import cmp_to_key\n",
        "\n",
        "\n",
        "cardtypes = [\"A\", \"K\", \"Q\", \"J\", \"T\", \"9\", \"8\", \"7\", \"6\", \"5\", \"4\", \"3\", \"2\"]\n",
        "cardstrengths = {c: len(cardtypes) - i for i, c in enumerate(cardtypes)}\n",
        "\n",
        "handtypes = {\n",
        "    \"FiveOfAKind\": 7,\n",
        "    \"FourOfAKind\": 6,\n",
        "    \"FullHouse\": 5,\n",
        "    \"ThreeOfAKind\": 4,\n",
        "    \"TwoPair\": 3,\n",
        "    \"OnePair\": 2,\n",
        "    \"HighCard\": 1,\n",
        "}\n",
        "\n",
        "def handtype(hand):\n",
        "    \"\"\"\n",
        "    Work out the type of hand.\n",
        "    \"\"\"\n",
        "\n",
        "    # count numbers of each card type\n",
        "    cardnums = [\n",
        "        hand.count(c)\n",
        "        for c in cardtypes\n",
        "        if hand.count(c) > 0\n",
        "    ]\n",
        "\n",
        "    if 5 in cardnums:\n",
        "        return \"FiveOfAKind\"\n",
        "    elif 4 in cardnums:\n",
        "        return \"FourOfAKind\"\n",
        "    elif 3 in cardnums and 2 in cardnums:\n",
        "        return \"FullHouse\"\n",
        "    elif 3 in cardnums:\n",
        "        return \"ThreeOfAKind\"\n",
        "    elif len(cardnums) == 3:\n",
        "        return \"TwoPair\"\n",
        "    elif 2 in cardnums:\n",
        "        return \"OnePair\"\n",
        "    else:\n",
        "        return \"HighCard\"\n",
        "\n",
        "def compare(hand1, hand2):\n",
        "    \"\"\"\n",
        "    Function to compare two hands of cards for sorting.\n",
        "    \"\"\"\n",
        "\n",
        "    typescore1 = handtypes[handtype(hand1[0])]\n",
        "    typescore2 = handtypes[handtype(hand2[0])]\n",
        "\n",
        "    if typescore1 == typescore2:\n",
        "        # hands are the same type, so compare each card one by one\n",
        "        for c1, c2 in zip(hand1[0], hand2[0]):\n",
        "            if c1 == c2:\n",
        "                continue\n",
        "            elif cardstrengths[c1] > cardstrengths[c2]:\n",
        "                return 1\n",
        "            elif cardstrengths[c1] < cardstrengths[c2]:\n",
        "                return -1\n",
        "\n",
        "        return 0\n",
        "    else:\n",
        "        # return \n",
        "        if typescore1 > typescore2:\n",
        "            return 1\n",
        "        else:\n",
        "            return -1\n",
        "\n",
        "\n",
        "keyfunc = cmp_to_key(compare)\n",
        "\n",
        "# read in hands\n",
        "with open(\"day7input.txt\", \"r\") as fp:\n",
        "    cards = [[line.strip().split()[0], int(line.strip().split()[1])] for line in fp.readlines()]\n",
        "\n",
        "# sort cards in ascending order of score\n",
        "sortedcards = sorted(cards, key=keyfunc)\n",
        "\n",
        "# calculate total winnings\n",
        "totalwinnings = 0\n",
        "for i in range(len(sortedcards)):\n",
        "    totalwinnings += (i + 1) * sortedcards[i][1]\n",
        "\n",
        "print(f\"The total winnings are {totalwinnings}\")"
      ]
    },
    {
      "cell_type": "code",
      "execution_count": 14,
      "metadata": {},
      "outputs": [
        {
          "name": "stdout",
          "output_type": "stream",
          "text": [
            "The total winnings are 248256639\n"
          ]
        }
      ],
      "source": [
        "cardtypes = [\"A\", \"K\", \"Q\", \"T\", \"9\", \"8\", \"7\", \"6\", \"5\", \"4\", \"3\", \"2\", \"J\"]\n",
        "cardstrengths = {c: len(cardtypes) - i for i, c in enumerate(cardtypes)}\n",
        "\n",
        "def compare(hand1, hand2):\n",
        "    \"\"\"\n",
        "    Function to compare two hands of cards for sorting.\n",
        "    \"\"\"\n",
        "\n",
        "    newhands1 = [hand1[0]]\n",
        "    if \"J\" in hand1[0]:\n",
        "        newhands1.extend([hand1[0].replace(\"J\", c) for c in set(hand1[0]) if c != \"J\"])\n",
        "\n",
        "    newhands2 = [hand2[0]]\n",
        "    if \"J\" in hand2[0]:\n",
        "        newhands2.extend([hand2[0].replace(\"J\", c) for c in set(hand2[0]) if c != \"J\"])\n",
        "\n",
        "    # get highest typescore for each hand with wildcards exchanged\n",
        "    typescore1 = max([handtypes[handtype(nh1)] for nh1 in newhands1])\n",
        "    typescore2 = max([handtypes[handtype(nh2)] for nh2 in newhands2])\n",
        "\n",
        "    if typescore1 == typescore2:\n",
        "        # hands are the same type, so compare each card one by one\n",
        "        for c1, c2 in zip(hand1[0], hand2[0]):\n",
        "            if c1 == c2:\n",
        "                continue\n",
        "            elif cardstrengths[c1] > cardstrengths[c2]:\n",
        "                return 1\n",
        "            elif cardstrengths[c1] < cardstrengths[c2]:\n",
        "                return -1\n",
        "\n",
        "        return 0\n",
        "    else:\n",
        "        # return \n",
        "        if typescore1 > typescore2:\n",
        "            return 1\n",
        "        else:\n",
        "            return -1\n",
        "        \n",
        "keyfunc = cmp_to_key(compare)\n",
        "\n",
        "# sort cards in ascending order of score\n",
        "sortedcards = sorted(cards, key=keyfunc)\n",
        "\n",
        "# calculate total winnings\n",
        "totalwinnings = 0\n",
        "for i in range(len(sortedcards)):\n",
        "    totalwinnings += (i + 1) * sortedcards[i][1]\n",
        "\n",
        "print(f\"The total winnings are {totalwinnings}\")"
      ]
    },
    {
      "cell_type": "markdown",
      "metadata": {},
      "source": [
        "## Day 8\n",
        "\n",
        "See [here](https://adventofcode.com/2023/day/8)."
      ]
    },
    {
      "cell_type": "code",
      "execution_count": 2,
      "metadata": {},
      "outputs": [
        {
          "name": "stdout",
          "output_type": "stream",
          "text": [
            "Number of steps to reach 'ZZZ' is 20093\n"
          ]
        }
      ],
      "source": [
        "with open(\"day8input.txt\", \"r\") as fp:\n",
        "    lines = fp.readlines()\n",
        "\n",
        "instructions = list(lines[0].strip())\n",
        "nins = len(instructions)\n",
        "\n",
        "nodes = {}\n",
        "for line in lines[2:]:\n",
        "    n, connections = line.split(\"=\")\n",
        "    nname = n.strip()\n",
        "    l, r = connections.strip().replace(\"(\", \"\").replace(\")\", \"\").split(\",\")\n",
        "    nodes[nname] = {\"L\": l.strip(), \"R\": r.strip()}\n",
        "\n",
        "i = 1\n",
        "curnode = \"AAA\"\n",
        "while True:\n",
        "    instruction = instructions[(i - 1) % nins]\n",
        "\n",
        "    curnode = nodes[curnode][instruction]\n",
        "\n",
        "    if curnode == \"ZZZ\":\n",
        "        break\n",
        "\n",
        "    i += 1\n",
        "\n",
        "print(f\"Number of steps to reach 'ZZZ' is {i}\")"
      ]
    },
    {
      "cell_type": "code",
      "execution_count": 11,
      "metadata": {},
      "outputs": [
        {
          "name": "stdout",
          "output_type": "stream",
          "text": [
            "Number of steps before all paths end with 'Z' is 22103062509257\n"
          ]
        }
      ],
      "source": [
        "# NOTE: each path is periodic, so just find the number of steps to\n",
        "# the first end point in each case, and then find then lowest common\n",
        "# multiple\n",
        "\n",
        "def count_steps(node, nodes, instructions):\n",
        "    nins = len(instructions)\n",
        "\n",
        "    steps = 1\n",
        "    while True:\n",
        "        instruction = instructions[(steps - 1) % nins]\n",
        "\n",
        "        node = nodes[node][instruction]\n",
        "\n",
        "        if node.endswith(\"Z\"):\n",
        "            break\n",
        "\n",
        "        steps += 1\n",
        "\n",
        "    return steps\n",
        "\n",
        "# start nodes\n",
        "startnodes = [node for node in nodes if node.endswith(\"A\")]\n",
        "\n",
        "# path periods\n",
        "periods = [\n",
        "    count_steps(node, nodes, instructions)\n",
        "    for node in startnodes\n",
        "]\n",
        "\n",
        "# lowest common multiple\n",
        "lcm = np.lcm.reduce(periods)\n",
        "\n",
        "print(f\"Number of steps before all paths end with 'Z' is {lcm}\")"
      ]
    },
    {
      "cell_type": "markdown",
      "metadata": {},
      "source": [
        "## Day 9\n",
        "\n",
        "See [here](https://adventofcode.com/2023/day/9)."
      ]
    },
    {
      "cell_type": "code",
      "execution_count": 41,
      "metadata": {},
      "outputs": [
        {
          "name": "stdout",
          "output_type": "stream",
          "text": [
            "The sum of the extrapolated values is 1819125966\n"
          ]
        }
      ],
      "source": [
        "history = np.loadtxt(\"day9input.txt\").astype(int)\n",
        "\n",
        "class Predict:\n",
        "    def __init__(self, hist):\n",
        "        self.hist = hist\n",
        "        self.levels = [self.hist]\n",
        "\n",
        "        self.create_levels()\n",
        "\n",
        "    def create_levels(self):\n",
        "        while np.any(self.levels[-1][1:] != self.levels[-1][0]):\n",
        "            self.levels.append(np.diff(self.levels[-1]))\n",
        "\n",
        "    def predict(self):\n",
        "        next = sum(l[-1] for l in self.levels)\n",
        "        return next\n",
        "\n",
        "\n",
        "predictions = [\n",
        "    Predict(p).predict()\n",
        "    for p in history\n",
        "]\n",
        "\n",
        "print(f\"The sum of the extrapolated values is {sum(predictions)}\")"
      ]
    }
  ],
  "metadata": {
    "colab": {
      "provenance": []
    },
    "kernelspec": {
      "display_name": "Python 3",
      "name": "python3"
    },
    "language_info": {
      "codemirror_mode": {
        "name": "ipython",
        "version": 3
      },
      "file_extension": ".py",
      "mimetype": "text/x-python",
      "name": "python",
      "nbconvert_exporter": "python",
      "pygments_lexer": "ipython3",
      "version": "3.9.13"
    }
  },
  "nbformat": 4,
  "nbformat_minor": 0
}
