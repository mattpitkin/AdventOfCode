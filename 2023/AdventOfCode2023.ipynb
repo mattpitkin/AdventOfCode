{
  "cells": [
    {
      "cell_type": "markdown",
      "metadata": {
        "id": "JwoBMF0ZC0kx"
      },
      "source": [
        "# Advent of code 2023"
      ]
    },
    {
      "cell_type": "markdown",
      "metadata": {
        "id": "ng94SlkfC4Kh"
      },
      "source": [
        "## Day 1\n",
        "\n",
        "See [here](https://adventofcode.com/2023/day/1)."
      ]
    },
    {
      "cell_type": "code",
      "execution_count": 1,
      "metadata": {
        "colab": {
          "base_uri": "https://localhost:8080/"
        },
        "id": "8WXuNw9AB4Dr",
        "outputId": "819b6b85-a503-4f71-fba3-7aa3ba20988a"
      },
      "outputs": [
        {
          "name": "stdout",
          "output_type": "stream",
          "text": [
            "The sum of all the calibration values is 54940\n"
          ]
        }
      ],
      "source": [
        "import re\n",
        "\n",
        "total = 0\n",
        "\n",
        "with open(\"day1input.txt\", \"r\") as fp:\n",
        "    for line in fp.readlines():\n",
        "        nums = re.findall(\"\\d\", line.strip())\n",
        "        total += int(nums[0] + nums[-1])\n",
        "\n",
        "print(f\"The sum of all the calibration values is {total}\")"
      ]
    },
    {
      "cell_type": "code",
      "execution_count": 30,
      "metadata": {},
      "outputs": [
        {
          "name": "stdout",
          "output_type": "stream",
          "text": [
            "The sum of all the calibration values is 54208\n"
          ]
        }
      ],
      "source": [
        "# mapping between words and numbers\n",
        "replacements = {\n",
        "    \"one\": \"1\",\n",
        "    \"two\": \"2\",\n",
        "    \"three\": \"3\",\n",
        "    \"four\": \"4\",\n",
        "    \"five\": \"5\",\n",
        "    \"six\": \"6\",\n",
        "    \"seven\": \"7\",\n",
        "    \"eight\": \"8\",\n",
        "    \"nine\": \"9\"\n",
        "}\n",
        "\n",
        "total = 0\n",
        "\n",
        "with open(\"day1input.txt\", \"r\") as fp:\n",
        "    for line in fp.readlines():\n",
        "        line = line.strip()\n",
        "\n",
        "        # get all matches to each number (each sorted in order they appear)\n",
        "        matches = {\n",
        "            r: sorted([m.span() for m in re.finditer(r, line)] + [m.span() for m in re.finditer(replacements[r], line)])\n",
        "            for r in replacements\n",
        "        }\n",
        "\n",
        "        # get the first and last number\n",
        "        first = None\n",
        "        last = None\n",
        "        mini = len(line)\n",
        "        maxi = 0\n",
        "        for r in matches:\n",
        "            if matches[r]:\n",
        "                if matches[r][0][0] < mini:\n",
        "                    mini = matches[r][0][0]\n",
        "                    first = replacements[r]\n",
        "                if matches[r][-1][-1] > maxi:\n",
        "                    maxi = matches[r][-1][-1]\n",
        "                    last = replacements[r]\n",
        "\n",
        "        total += int(first + last)\n",
        "\n",
        "print(f\"The sum of all the calibration values is {total}\")"
      ]
    },
    {
      "cell_type": "markdown",
      "metadata": {},
      "source": [
        "## Day 2\n",
        "\n",
        "See [here](https://adventofcode.com/2023/day/2)."
      ]
    },
    {
      "cell_type": "code",
      "execution_count": 42,
      "metadata": {},
      "outputs": [
        {
          "name": "stdout",
          "output_type": "stream",
          "text": [
            "The sum of the IDs of the possible games is 2447\n"
          ]
        }
      ],
      "source": [
        "games = {}\n",
        "\n",
        "colours = [\"red\", \"green\", \"blue\"]\n",
        "\n",
        "# parse the input\n",
        "with open(\"day2input.txt\", \"r\") as fp:\n",
        "    for line in fp.readlines():\n",
        "        idgame = line.strip().split(\":\")\n",
        "        id = idgame[0].split()[-1]\n",
        "        gamesplit = idgame[1].split(\";\")\n",
        "\n",
        "        games[id] = []\n",
        "\n",
        "        for g in gamesplit:\n",
        "            counts = {c: 0 for c in colours}\n",
        "\n",
        "            for gg in g.split(\",\"):\n",
        "                for colour in colours:\n",
        "                    if colour in gg:\n",
        "                        counts[colour] = int(gg.split()[0])\n",
        "                        break\n",
        "            \n",
        "            games[id].append(counts)\n",
        "\n",
        "allowedcounts = {\"red\": 12, \"green\": 13, \"blue\": 14}\n",
        "\n",
        "total = 0\n",
        "for gid in games:\n",
        "    possible = True\n",
        "    for c in colours:\n",
        "        if any(g[c] > allowedcounts[c] for g in games[gid]):\n",
        "            possible = False\n",
        "            break\n",
        "\n",
        "    if possible:\n",
        "        total += int(gid)\n",
        "\n",
        "print(f\"The sum of the IDs of the possible games is {total}\")"
      ]
    },
    {
      "cell_type": "code",
      "execution_count": 43,
      "metadata": {},
      "outputs": [
        {
          "name": "stdout",
          "output_type": "stream",
          "text": [
            "The sum of the power of the games is 56322\n"
          ]
        }
      ],
      "source": [
        "total = 0\n",
        "\n",
        "for gid in games:\n",
        "    power = 1\n",
        "    for c in colours:\n",
        "        power *= int(max(g[c] for g in games[gid]))\n",
        "\n",
        "    total += power\n",
        "\n",
        "print(f\"The sum of the power of the games is {total}\")"
      ]
    }
  ],
  "metadata": {
    "colab": {
      "provenance": []
    },
    "kernelspec": {
      "display_name": "Python 3",
      "name": "python3"
    },
    "language_info": {
      "codemirror_mode": {
        "name": "ipython",
        "version": 3
      },
      "file_extension": ".py",
      "mimetype": "text/x-python",
      "name": "python",
      "nbconvert_exporter": "python",
      "pygments_lexer": "ipython3",
      "version": "3.9.13"
    }
  },
  "nbformat": 4,
  "nbformat_minor": 0
}
