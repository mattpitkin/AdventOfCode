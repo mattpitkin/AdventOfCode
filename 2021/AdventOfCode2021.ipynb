{
 "cells": [
  {
   "cell_type": "markdown",
   "metadata": {
    "id": "JUUPGSwGserL"
   },
   "source": [
    "# Advent of Code 2021\n",
    "\n",
    "This notebook is my solutions to the [Advent of Cocde 2021](https://adventofcode.com/)."
   ]
  },
  {
   "cell_type": "code",
   "execution_count": 8,
   "metadata": {
    "id": "MRCYpFW-sZVl"
   },
   "outputs": [],
   "source": [
    "import numpy as np\n",
    "import os\n",
    "\n",
    "\n",
    "def complete(done=False):\n",
    "    \"\"\"\n",
    "    Print out a message saying whether the task was completed correctly or not.\n",
    "    Ascii art generated from https://patorjk.com/software/taag.\n",
    "\n",
    "    Parameters\n",
    "    ----------\n",
    "    done: bool\n",
    "        Set to True to print out the completion text. Default is False.\n",
    "    \"\"\"\n",
    "\n",
    "    comptext = r\"\"\"\n",
    "   _____                      _      _       \n",
    "  / ____|                    | |    | |      \n",
    " | |     ___  _ __ ___  _ __ | | ___| |_ ___ \n",
    " | |    / _ \\| '_ ` _ \\| '_ \\| |/ _ \\ __/ _ \\\n",
    " | |___| (_) | | | | | | |_) | |  __/ ||  __/\n",
    "  \\_____\\___/|_| |_| |_| .__/|_|\\___|\\__\\___|\n",
    "                       | |                   \n",
    "                       |_|                   \n",
    "\"\"\"\n",
    "\n",
    "    incomptext = r\"\"\"\n",
    "  _______ ____  _____   ____  \n",
    " |__   __/ __ \\|  __ \\ / __ \\ \n",
    "    | | | |  | | |  | | |  | |\n",
    "    | | | |  | | |  | | |  | |\n",
    "    | | | |__| | |__| | |__| |\n",
    "    |_|  \\____/|_____/ \\____/ \n",
    "\"\"\"\n",
    "\n",
    "    if done:\n",
    "        print(comptext)\n",
    "    else:\n",
    "        print(incomptext)\n",
    "\n",
    "# directory containing input data\n",
    "inputdir = \"input\""
   ]
  },
  {
   "cell_type": "markdown",
   "metadata": {
    "id": "zTGqEBTWzTGg"
   },
   "source": [
    "# Day 1"
   ]
  },
  {
   "cell_type": "markdown",
   "metadata": {
    "id": "aHizzdNu05s3"
   },
   "source": [
    "## Part 1"
   ]
  },
  {
   "cell_type": "code",
   "execution_count": 6,
   "metadata": {},
   "outputs": [],
   "source": [
    "# get the input data\n",
    "sonar = np.loadtxt(os.path.join(inputdir, \"day1.txt\"))"
   ]
  },
  {
   "cell_type": "code",
   "execution_count": 9,
   "metadata": {
    "colab": {
     "base_uri": "https://localhost:8080/"
    },
    "id": "rI9FTtOuzs4d",
    "outputId": "6c72b327-d824-4bb1-ede8-1f069d33116d"
   },
   "outputs": [
    {
     "name": "stdout",
     "output_type": "stream",
     "text": [
      "Number of times slope increases is 1475\n",
      "\n",
      "   _____                      _      _       \n",
      "  / ____|                    | |    | |      \n",
      " | |     ___  _ __ ___  _ __ | | ___| |_ ___ \n",
      " | |    / _ \\| '_ ` _ \\| '_ \\| |/ _ \\ __/ _ \\\n",
      " | |___| (_) | | | | | | |_) | |  __/ ||  __/\n",
      "  \\_____\\___/|_| |_| |_| .__/|_|\\___|\\__\\___|\n",
      "                       | |                   \n",
      "                       |_|                   \n",
      "\n"
     ]
    }
   ],
   "source": [
    "increase = np.sum(np.diff(sonar) > 0)\n",
    "\n",
    "print(f\"Number of times slope increases is {increase}\")\n",
    "\n",
    "complete(True)"
   ]
  },
  {
   "cell_type": "markdown",
   "metadata": {
    "id": "Anb2_ai508b6"
   },
   "source": [
    "## Part 2"
   ]
  },
  {
   "cell_type": "code",
   "execution_count": 10,
   "metadata": {
    "colab": {
     "base_uri": "https://localhost:8080/"
    },
    "id": "Z5pNUGV109-8",
    "outputId": "74ba2f2e-d3cb-413d-850c-2b1eb21702bb"
   },
   "outputs": [
    {
     "name": "stdout",
     "output_type": "stream",
     "text": [
      "Number of times slope increases is 1516\n",
      "\n",
      "   _____                      _      _       \n",
      "  / ____|                    | |    | |      \n",
      " | |     ___  _ __ ___  _ __ | | ___| |_ ___ \n",
      " | |    / _ \\| '_ ` _ \\| '_ \\| |/ _ \\ __/ _ \\\n",
      " | |___| (_) | | | | | | |_) | |  __/ ||  __/\n",
      "  \\_____\\___/|_| |_| |_| .__/|_|\\___|\\__\\___|\n",
      "                       | |                   \n",
      "                       |_|                   \n",
      "\n"
     ]
    }
   ],
   "source": [
    "window = 3\n",
    "\n",
    "avesonar = []\n",
    "rem = len(sonar) % window\n",
    "\n",
    "for i in range(0, len(sonar) - rem):\n",
    "    avesonar.append(np.sum(sonar[i:i + window]))\n",
    "\n",
    "increase = np.sum(np.diff(avesonar) > 0)\n",
    "print(f\"Number of times slope increases is {increase}\")\n",
    "\n",
    "complete(True)"
   ]
  },
  {
   "cell_type": "markdown",
   "metadata": {
    "id": "j3ResuX625JW"
   },
   "source": [
    "# Day 2"
   ]
  },
  {
   "cell_type": "code",
   "execution_count": 11,
   "metadata": {},
   "outputs": [],
   "source": [
    "# get the input data\n",
    "with open(os.path.join(inputdir, \"day2.txt\"), \"r\") as fp:\n",
    "    inputdata = fp.read()"
   ]
  },
  {
   "cell_type": "markdown",
   "metadata": {
    "id": "ZQ5TwlvP28GP"
   },
   "source": [
    "## Part 1"
   ]
  },
  {
   "cell_type": "code",
   "execution_count": 14,
   "metadata": {
    "colab": {
     "base_uri": "https://localhost:8080/"
    },
    "id": "mJCibTjZ3GiJ",
    "outputId": "907fb622-ba10-4b9a-af15-60198e0b8bc9"
   },
   "outputs": [
    {
     "name": "stdout",
     "output_type": "stream",
     "text": [
      "Depth: 1030, horizontal position: 2010\n",
      "Multiplied together gives: 2070300\n",
      "\n",
      "   _____                      _      _       \n",
      "  / ____|                    | |    | |      \n",
      " | |     ___  _ __ ___  _ __ | | ___| |_ ___ \n",
      " | |    / _ \\| '_ ` _ \\| '_ \\| |/ _ \\ __/ _ \\\n",
      " | |___| (_) | | | | | | |_) | |  __/ ||  __/\n",
      "  \\_____\\___/|_| |_| |_| .__/|_|\\___|\\__\\___|\n",
      "                       | |                   \n",
      "                       |_|                   \n",
      "\n"
     ]
    }
   ],
   "source": [
    "movements = [(line.split()[0], int(line.split()[1])) for line in inputdata.split(\"\\n\") if len(line.strip()) > 0]\n",
    "\n",
    "hpos = 0\n",
    "dpos = 0\n",
    "\n",
    "for move in movements:\n",
    "    if move[0] == \"forward\":\n",
    "        hpos += move[1]\n",
    "    elif move[0] == \"up\":\n",
    "        dpos -= move[1]\n",
    "    else:\n",
    "        dpos += move[1]\n",
    "\n",
    "print(f\"Depth: {dpos}, horizontal position: {hpos}\")\n",
    "print(f\"Multiplied together gives: {dpos * hpos}\")\n",
    "\n",
    "complete(True)"
   ]
  },
  {
   "cell_type": "markdown",
   "metadata": {
    "id": "sU5HFfOD4htX"
   },
   "source": [
    "## Part 2"
   ]
  },
  {
   "cell_type": "code",
   "execution_count": 15,
   "metadata": {
    "colab": {
     "base_uri": "https://localhost:8080/"
    },
    "id": "yDKjmsa_4jPa",
    "outputId": "36261953-552d-46ab-bbe8-d65fed7cd9cc"
   },
   "outputs": [
    {
     "name": "stdout",
     "output_type": "stream",
     "text": [
      "Depth: 1034321, horizontal position: 2010\n",
      "Multiplied together gives: 2078985210\n",
      "\n",
      "   _____                      _      _       \n",
      "  / ____|                    | |    | |      \n",
      " | |     ___  _ __ ___  _ __ | | ___| |_ ___ \n",
      " | |    / _ \\| '_ ` _ \\| '_ \\| |/ _ \\ __/ _ \\\n",
      " | |___| (_) | | | | | | |_) | |  __/ ||  __/\n",
      "  \\_____\\___/|_| |_| |_| .__/|_|\\___|\\__\\___|\n",
      "                       | |                   \n",
      "                       |_|                   \n",
      "\n"
     ]
    }
   ],
   "source": [
    "aim = 0\n",
    "hpos = 0\n",
    "dpos = 0\n",
    "\n",
    "for move in movements:\n",
    "    if move[0] == \"forward\":\n",
    "        hpos += move[1]\n",
    "        dpos += (move[1] * aim)\n",
    "    elif move[0] == \"up\":\n",
    "        aim -= move[1]\n",
    "    else:\n",
    "        aim += move[1]\n",
    "\n",
    "print(f\"Depth: {dpos}, horizontal position: {hpos}\")\n",
    "print(f\"Multiplied together gives: {dpos * hpos}\")\n",
    "\n",
    "complete(True)"
   ]
  },
  {
   "cell_type": "markdown",
   "metadata": {
    "id": "B7PV1CwC5y3j"
   },
   "source": [
    "# Day 3"
   ]
  },
  {
   "cell_type": "code",
   "execution_count": 16,
   "metadata": {},
   "outputs": [],
   "source": [
    "# get the input data\n",
    "with open(os.path.join(inputdir, \"day3.txt\"), \"r\") as fp:\n",
    "    inputdata = fp.read()"
   ]
  },
  {
   "cell_type": "markdown",
   "metadata": {
    "id": "ZWrpg9SA54eV"
   },
   "source": [
    "## Part 1"
   ]
  },
  {
   "cell_type": "code",
   "execution_count": 17,
   "metadata": {
    "colab": {
     "base_uri": "https://localhost:8080/"
    },
    "id": "62Xei9qJ6QdG",
    "outputId": "4e880bd7-06d8-4dd9-a0a5-4266fa2fad20"
   },
   "outputs": [
    {
     "name": "stdout",
     "output_type": "stream",
     "text": [
      "2601\n",
      "1494\n",
      "Power consumption of the submarine is 3885894\n",
      "\n",
      "   _____                      _      _       \n",
      "  / ____|                    | |    | |      \n",
      " | |     ___  _ __ ___  _ __ | | ___| |_ ___ \n",
      " | |    / _ \\| '_ ` _ \\| '_ \\| |/ _ \\ __/ _ \\\n",
      " | |___| (_) | | | | | | |_) | |  __/ ||  __/\n",
      "  \\_____\\___/|_| |_| |_| .__/|_|\\___|\\__\\___|\n",
      "                       | |                   \n",
      "                       |_|                   \n",
      "\n"
     ]
    }
   ],
   "source": [
    "binarray = np.array([[int(val) for val in line.strip()] for line in inputdata.split(\"\\n\") if len(line.strip()) > 0])\n",
    "\n",
    "gamma = []\n",
    "epsilon = []\n",
    "\n",
    "collen = binarray.shape[0]\n",
    "\n",
    "for col in binarray.T:\n",
    "    gamma.append(1 if np.sum(col) > (collen / 2) else 0)\n",
    "    epsilon.append(int(not gamma[-1]))\n",
    "\n",
    "decgamma = np.sum([gamma[len(gamma) - (i + 1)] * (2 ** i) for i in range(len(gamma))])\n",
    "decepsilon = np.sum([epsilon[len(epsilon) - (i + 1)] * (2 ** i) for i in range(len(epsilon))])\n",
    "\n",
    "print(decgamma)\n",
    "print(decepsilon)\n",
    "\n",
    "print(f\"Power consumption of the submarine is {decgamma * decepsilon}\")\n",
    "\n",
    "complete(True)"
   ]
  },
  {
   "cell_type": "markdown",
   "metadata": {
    "id": "WgEiMgI19t-G"
   },
   "source": [
    "## Part 2"
   ]
  },
  {
   "cell_type": "code",
   "execution_count": 18,
   "metadata": {
    "colab": {
     "base_uri": "https://localhost:8080/"
    },
    "id": "ZMhoeO4p9tk1",
    "outputId": "8e4767ce-9843-4a7b-d50a-85555ce7fe8a"
   },
   "outputs": [
    {
     "name": "stdout",
     "output_type": "stream",
     "text": [
      "3775\n",
      "1159\n",
      "Life support rating: 4375225\n",
      "\n",
      "   _____                      _      _       \n",
      "  / ____|                    | |    | |      \n",
      " | |     ___  _ __ ___  _ __ | | ___| |_ ___ \n",
      " | |    / _ \\| '_ ` _ \\| '_ \\| |/ _ \\ __/ _ \\\n",
      " | |___| (_) | | | | | | |_) | |  __/ ||  __/\n",
      "  \\_____\\___/|_| |_| |_| .__/|_|\\___|\\__\\___|\n",
      "                       | |                   \n",
      "                       |_|                   \n",
      "\n"
     ]
    }
   ],
   "source": [
    "sublist = np.copy(binarray)\n",
    "pos = 0\n",
    "while True:\n",
    "    col = sublist[:, pos]\n",
    "\n",
    "    collen = len(col)\n",
    "\n",
    "    mostcommon = 1 if np.sum(col) >= (collen / 2) else 0\n",
    "    idx = col == mostcommon\n",
    "\n",
    "    sublist = sublist[idx, :]\n",
    "\n",
    "    if np.sum(idx) == 1:\n",
    "        break\n",
    "\n",
    "    pos += 1\n",
    "\n",
    "oxy = sublist[0]\n",
    "\n",
    "sublist = np.copy(binarray)\n",
    "pos = 0\n",
    "while True:\n",
    "    col = sublist[:, pos]\n",
    "\n",
    "    collen = len(col)\n",
    "\n",
    "    leastcommon = 0 if np.sum(col) >= (collen / 2) else 1\n",
    "    idx = col == leastcommon\n",
    "\n",
    "    sublist = sublist[idx, :]\n",
    "\n",
    "    if np.sum(idx) == 1:\n",
    "        break\n",
    "\n",
    "    pos += 1\n",
    "\n",
    "scrub = sublist[0]\n",
    "\n",
    "decoxy = np.sum([oxy[len(oxy) - (i + 1)] * (2 ** i) for i in range(len(oxy))])\n",
    "decscrub = np.sum([scrub[len(scrub) - (i + 1)] * (2 ** i) for i in range(len(scrub))])\n",
    "\n",
    "print(decoxy)\n",
    "print(decscrub)\n",
    "\n",
    "print(f\"Life support rating: {decoxy * decscrub}\")\n",
    "\n",
    "complete(True)"
   ]
  },
  {
   "cell_type": "markdown",
   "metadata": {
    "id": "02XoFynl5a4k"
   },
   "source": [
    "# Day 4"
   ]
  },
  {
   "cell_type": "code",
   "execution_count": 19,
   "metadata": {},
   "outputs": [],
   "source": [
    "# get the input data\n",
    "with open(os.path.join(inputdir, \"day4.txt\"), \"r\") as fp:\n",
    "    inputdata = fp.read()"
   ]
  },
  {
   "cell_type": "markdown",
   "metadata": {
    "id": "r2ocTpAx5dND"
   },
   "source": [
    "## Part 1"
   ]
  },
  {
   "cell_type": "code",
   "execution_count": 21,
   "metadata": {
    "colab": {
     "base_uri": "https://localhost:8080/"
    },
    "id": "PhvyeCFo5t1T",
    "outputId": "38603158-9284-4b9d-ffd5-cdd4dae842d9"
   },
   "outputs": [
    {
     "name": "stdout",
     "output_type": "stream",
     "text": [
      "Final score is 21607\n",
      "\n",
      "   _____                      _      _       \n",
      "  / ____|                    | |    | |      \n",
      " | |     ___  _ __ ___  _ __ | | ___| |_ ___ \n",
      " | |    / _ \\| '_ ` _ \\| '_ \\| |/ _ \\ __/ _ \\\n",
      " | |___| (_) | | | | | | |_) | |  __/ ||  __/\n",
      "  \\_____\\___/|_| |_| |_| .__/|_|\\___|\\__\\___|\n",
      "                       | |                   \n",
      "                       |_|                   \n",
      "\n"
     ]
    }
   ],
   "source": [
    "lines = inputdata.split(\"\\n\")\n",
    "\n",
    "# get bingo numbers\n",
    "header = np.array([int(val) for val in lines[0].strip().split(\",\")])\n",
    "\n",
    "# get bingo boards\n",
    "boards = []\n",
    "grids = []\n",
    "newboard = []\n",
    "\n",
    "for i in range(1, len(lines) - 1):\n",
    "    if len(lines[i].strip()) == 0:\n",
    "        if len(newboard) != 0:\n",
    "            boards.append(np.array(newboard))\n",
    "            grids.append(np.zeros_like(newboard))\n",
    "            newboard = []\n",
    "        continue\n",
    "\n",
    "    newboard.append([int(val) for val in lines[i].strip().split()])\n",
    "\n",
    "# add on last board\n",
    "boards.append(np.array(newboard))\n",
    "grids.append(np.zeros_like(newboard))\n",
    "\n",
    "# play bingo!\n",
    "winner = False\n",
    "bshape = boards[0].shape\n",
    "for number in header:\n",
    "    for j in range(len(boards)):\n",
    "        # find any values equal to number\n",
    "        hasnum = boards[j] == number\n",
    "        grids[j][hasnum] = 1\n",
    "\n",
    "        # check for any winning rows/columns\n",
    "        if np.any(grids[j].sum(axis=0) == bshape[0]) or np.any(grids[j].sum(axis=1) == bshape[1]):\n",
    "            winner = True\n",
    "            break\n",
    "\n",
    "    if winner:\n",
    "        break\n",
    "\n",
    "# get sum of all unmarked numbers on winning grid\n",
    "usum = boards[j][~grids[j].astype(bool)].sum()\n",
    "\n",
    "print(f\"Final score is {usum * number}\")\n",
    "\n",
    "complete(True)"
   ]
  },
  {
   "cell_type": "markdown",
   "metadata": {
    "id": "DoiUkqS4CeNr"
   },
   "source": [
    "## Part 2"
   ]
  },
  {
   "cell_type": "code",
   "execution_count": 22,
   "metadata": {
    "colab": {
     "base_uri": "https://localhost:8080/"
    },
    "id": "sKY9b_Y7ChaB",
    "outputId": "ff98f8d8-729c-47ed-fe14-0cb03e8aacde"
   },
   "outputs": [
    {
     "name": "stdout",
     "output_type": "stream",
     "text": [
      "Final score of last winning board is 19012\n",
      "\n",
      "   _____                      _      _       \n",
      "  / ____|                    | |    | |      \n",
      " | |     ___  _ __ ___  _ __ | | ___| |_ ___ \n",
      " | |    / _ \\| '_ ` _ \\| '_ \\| |/ _ \\ __/ _ \\\n",
      " | |___| (_) | | | | | | |_) | |  __/ ||  __/\n",
      "  \\_____\\___/|_| |_| |_| .__/|_|\\___|\\__\\___|\n",
      "                       | |                   \n",
      "                       |_|                   \n",
      "\n"
     ]
    }
   ],
   "source": [
    "# play bingo (until last board has one)!\n",
    "winner = False\n",
    "i = 0\n",
    "bshape = boards[0].shape\n",
    "haswon = []\n",
    "\n",
    "# reset grids\n",
    "for grid in grids:\n",
    "    grid[:] = 0\n",
    "\n",
    "iterator = list(range(len(boards)))\n",
    "\n",
    "for number in header:\n",
    "    for j in list(iterator):\n",
    "        # find any values equal to number\n",
    "        hasnum = boards[j] == number\n",
    "        grids[j][hasnum] = 1\n",
    "\n",
    "        # check for any winning rows/columns\n",
    "        if np.any(grids[j].sum(axis=0) == bshape[0]) or np.any(grids[j].sum(axis=1) == bshape[1]): \n",
    "            haswon.append(iterator.pop(iterator.index(j)))\n",
    "\n",
    "        if len(iterator) == 0:\n",
    "            break\n",
    "\n",
    "    if len(iterator) == 0:\n",
    "        break\n",
    "\n",
    "lastwinner = haswon[-1]\n",
    "usum = boards[lastwinner][~grids[lastwinner].astype(bool)].sum()\n",
    "\n",
    "print(f\"Final score of last winning board is {usum * number}\")\n",
    "\n",
    "complete(True)"
   ]
  },
  {
   "cell_type": "markdown",
   "metadata": {
    "id": "s14-QBr5pxYr"
   },
   "source": [
    "# Day 5"
   ]
  },
  {
   "cell_type": "code",
   "execution_count": 23,
   "metadata": {},
   "outputs": [],
   "source": [
    "# get the input data\n",
    "with open(os.path.join(inputdir, \"day5.txt\"), \"r\") as fp:\n",
    "    inputdata = fp.read()"
   ]
  },
  {
   "cell_type": "markdown",
   "metadata": {
    "id": "rpAs4Lxnp4yT"
   },
   "source": [
    "## Part 1"
   ]
  },
  {
   "cell_type": "code",
   "execution_count": 24,
   "metadata": {
    "colab": {
     "base_uri": "https://localhost:8080/"
    },
    "id": "deMZbf1Sp80e",
    "outputId": "3c24f1ce-76f6-4750-a5b8-2c49a44fdb6b"
   },
   "outputs": [
    {
     "name": "stdout",
     "output_type": "stream",
     "text": [
      "Number of overlapping lines is 6397\n",
      "\n",
      "   _____                      _      _       \n",
      "  / ____|                    | |    | |      \n",
      " | |     ___  _ __ ___  _ __ | | ___| |_ ___ \n",
      " | |    / _ \\| '_ ` _ \\| '_ \\| |/ _ \\ __/ _ \\\n",
      " | |___| (_) | | | | | | |_) | |  __/ ||  __/\n",
      "  \\_____\\___/|_| |_| |_| .__/|_|\\___|\\__\\___|\n",
      "                       | |                   \n",
      "                       |_|                   \n",
      "\n"
     ]
    }
   ],
   "source": [
    "linestarts = []\n",
    "lineends = []\n",
    "for line in inputdata.split(\"\\n\"):\n",
    "    if len(line.strip()) == 0:\n",
    "        break\n",
    "    \n",
    "    lineend = line.strip().split(\"->\")\n",
    "    linestarts.append([int(val) for val in lineend[0].strip().split(\",\")])\n",
    "    lineends.append([int(val) for val in lineend[1].strip().split(\",\")])\n",
    "\n",
    "linestarts = np.array(linestarts, dtype=int)\n",
    "lineends = np.array(lineends, dtype=int)\n",
    "\n",
    "xsize = np.max([linestarts[:,0].max(), lineends[:,0].max()]) + 1\n",
    "ysize = np.max([linestarts[:,1].max(), lineends[:,1].max()]) + 1\n",
    "\n",
    "ventgrid = np.zeros((xsize, ysize), dtype=int)\n",
    "\n",
    "for i in range(len(linestarts)):\n",
    "    # get vertical and horizontal lines\n",
    "    if linestarts[i, 0] == lineends[i, 0]:\n",
    "        ycoords = sorted([linestarts[i, 1], lineends[i, 1]])\n",
    "        ventgrid[linestarts[i, 0], ycoords[0]:ycoords[1] + 1] += 1\n",
    "    elif linestarts[i, 1] == lineends[i, 1]:\n",
    "        xcoords = sorted([linestarts[i, 0], lineends[i, 0]])\n",
    "        ventgrid[xcoords[0]:(xcoords[1] + 1), linestarts[i, 1]] += 1\n",
    "\n",
    "noverlap = np.sum(ventgrid > 1)\n",
    "\n",
    "print(f\"Number of overlapping lines is {noverlap}\")\n",
    "\n",
    "complete(True)"
   ]
  },
  {
   "cell_type": "markdown",
   "metadata": {
    "id": "BQNFFbNG8E8w"
   },
   "source": [
    "## Part 2"
   ]
  },
  {
   "cell_type": "code",
   "execution_count": 25,
   "metadata": {
    "colab": {
     "base_uri": "https://localhost:8080/"
    },
    "id": "jcAcODe-vnxT",
    "outputId": "7faebabb-8241-4b7a-ddca-2d733798f1b5"
   },
   "outputs": [
    {
     "name": "stdout",
     "output_type": "stream",
     "text": [
      "Number of overlapping lines is 22335\n",
      "\n",
      "   _____                      _      _       \n",
      "  / ____|                    | |    | |      \n",
      " | |     ___  _ __ ___  _ __ | | ___| |_ ___ \n",
      " | |    / _ \\| '_ ` _ \\| '_ \\| |/ _ \\ __/ _ \\\n",
      " | |___| (_) | | | | | | |_) | |  __/ ||  __/\n",
      "  \\_____\\___/|_| |_| |_| .__/|_|\\___|\\__\\___|\n",
      "                       | |                   \n",
      "                       |_|                   \n",
      "\n"
     ]
    }
   ],
   "source": [
    "ventgrid = np.zeros((xsize, ysize), dtype=int)\n",
    "\n",
    "for i in range(len(linestarts)):\n",
    "    ycoords = sorted([linestarts[i, 1], lineends[i, 1]])\n",
    "    xcoords = sorted([linestarts[i, 0], lineends[i, 0]])\n",
    "\n",
    "    # fill in all lines\n",
    "    if linestarts[i, 0] == lineends[i, 0]:\n",
    "        ventgrid[linestarts[i, 0], ycoords[0]:ycoords[1] + 1] += 1\n",
    "    elif linestarts[i, 1] == lineends[i, 1]:\n",
    "        ventgrid[xcoords[0]:(xcoords[1] + 1), linestarts[i, 1]] += 1\n",
    "    else:\n",
    "        stepx = 1 if linestarts[i, 0] <= lineends[i, 0] else -1\n",
    "        stepy = 1 if linestarts[i, 1] <= lineends[i, 1] else -1\n",
    "\n",
    "        for j, k in zip(\n",
    "            range(min([xsize - 1, linestarts[i, 0]]), min([xsize, lineends[i, 0] + stepx]), stepx),\n",
    "            range(min([ysize - 1, linestarts[i, 1]]), min([ysize, lineends[i, 1] + stepy]), stepy)\n",
    "        ):\n",
    "            ventgrid[j, k] += 1\n",
    "\n",
    "noverlap = np.sum(ventgrid > 1)\n",
    "\n",
    "print(f\"Number of overlapping lines is {noverlap}\")\n",
    "\n",
    "complete(True)"
   ]
  },
  {
   "cell_type": "markdown",
   "metadata": {
    "id": "1u6vQf9-Itln"
   },
   "source": [
    "# Day 6"
   ]
  },
  {
   "cell_type": "code",
   "execution_count": 27,
   "metadata": {},
   "outputs": [],
   "source": [
    "startfish = np.loadtxt(os.path.join(inputdir, \"day6.txt\"), delimiter=\",\")"
   ]
  },
  {
   "cell_type": "markdown",
   "metadata": {
    "id": "9OmUmDMEIv66"
   },
   "source": [
    "## Part 1"
   ]
  },
  {
   "cell_type": "code",
   "execution_count": 28,
   "metadata": {
    "colab": {
     "base_uri": "https://localhost:8080/"
    },
    "id": "WZOBWsBDIx9Z",
    "outputId": "b44312d3-8dfe-40fa-9e8c-803101948525"
   },
   "outputs": [
    {
     "name": "stdout",
     "output_type": "stream",
     "text": [
      "Number of lantern fish after 80 days is 390923\n",
      "\n",
      "   _____                      _      _       \n",
      "  / ____|                    | |    | |      \n",
      " | |     ___  _ __ ___  _ __ | | ___| |_ ___ \n",
      " | |    / _ \\| '_ ` _ \\| '_ \\| |/ _ \\ __/ _ \\\n",
      " | |___| (_) | | | | | | |_) | |  __/ ||  __/\n",
      "  \\_____\\___/|_| |_| |_| .__/|_|\\___|\\__\\___|\n",
      "                       | |                   \n",
      "                       |_|                   \n",
      "\n"
     ]
    }
   ],
   "source": [
    "lanternfish = startfish.tolist()\n",
    "\n",
    "ndays = 80\n",
    "\n",
    "# simulate fish for 80 days\n",
    "for i in range(ndays):\n",
    "    nfish = len(lanternfish)\n",
    "    for j in range(nfish):\n",
    "        if lanternfish[j] == 0:\n",
    "            lanternfish.append(8)\n",
    "            lanternfish[j] = 6\n",
    "        else:\n",
    "            lanternfish[j] -= 1\n",
    "\n",
    "    #print(i + 1, len(lanternfish))\n",
    "\n",
    "nfish = len(lanternfish)\n",
    "\n",
    "print(f\"Number of lantern fish after {ndays} days is {nfish}\")\n",
    "\n",
    "complete(True)\n"
   ]
  },
  {
   "cell_type": "markdown",
   "metadata": {
    "id": "7ewnhjroKHhJ"
   },
   "source": [
    "## Part 2"
   ]
  },
  {
   "cell_type": "code",
   "execution_count": 29,
   "metadata": {
    "colab": {
     "base_uri": "https://localhost:8080/"
    },
    "id": "8_5et-TTKKnE",
    "outputId": "0c85b74b-4fa3-4b4e-cb33-ebf18ced81db"
   },
   "outputs": [
    {
     "name": "stdout",
     "output_type": "stream",
     "text": [
      "1\n",
      "[1]\n",
      "1 0\n",
      "Number of lantern fish after 8 days is 2\n",
      "\n",
      "  _______ ____  _____   ____  \n",
      " |__   __/ __ \\|  __ \\ / __ \\ \n",
      "    | | | |  | | |  | | |  | |\n",
      "    | | | |  | | |  | | |  | |\n",
      "    | | | |__| | |__| | |__| |\n",
      "    |_|  \\____/|_____/ \\____/ \n",
      "\n"
     ]
    }
   ],
   "source": [
    "#lanternfish = [1,2,1,1,1,1,1,1,2,1,3,1,1,1,1,3,1,1,1,5,1,1,1,4,5,1,1,1,3,4,1,1,1,1,1,1,1,5,1,4,1,1,1,1,1,1,1,5,1,3,1,3,1,1,1,5,1,1,1,1,1,5,4,1,2,4,4,1,1,1,1,1,5,1,1,1,1,1,5,4,3,1,1,1,1,1,1,1,5,1,3,1,4,1,1,3,1,1,1,1,1,1,2,1,4,1,3,1,1,1,1,1,5,1,1,1,2,1,1,1,1,2,1,1,1,1,4,1,3,1,1,1,1,1,1,1,1,5,1,1,4,1,1,1,1,1,3,1,3,3,1,1,1,2,1,1,1,1,1,1,1,1,1,5,1,1,1,1,5,1,1,1,1,2,1,1,1,4,1,1,1,2,3,1,1,1,1,1,1,1,1,2,1,1,1,2,3,1,2,1,1,5,4,1,1,2,1,1,1,3,1,4,1,1,1,1,3,1,2,5,1,1,1,5,1,1,1,1,1,4,1,1,4,1,1,1,2,2,2,2,4,3,1,1,3,1,1,1,1,1,1,2,2,1,1,4,2,1,4,1,1,1,1,1,5,1,1,4,2,1,1,2,5,4,2,1,1,1,1,4,2,3,5,2,1,5,1,3,1,1,5,1,1,4,5,1,1,1,1,4]\n",
    "lanternfish = [1]\n",
    "\n",
    "ndays = 8\n",
    "\n",
    "setfish = {v: 0 for v in set(lanternfish)}\n",
    "\n",
    "#for i in setfish:\n",
    "for i in [1]:\n",
    "    print(i)\n",
    "    newfishspawndays = list(range(i, ndays, 8))\n",
    "    print(newfishspawndays)\n",
    "    newfish = 0\n",
    "\n",
    "    for k, j in enumerate(newfishspawndays):\n",
    "        if k > 0:\n",
    "            newfish += 2 ** int(np.floor((ndays - j) / 6))\n",
    "\n",
    "        print(j, newfish)\n",
    "\n",
    "        #if k > 0:\n",
    "        #    newfish -= 2 ** (k - 1)\n",
    "        newfish += 2 ** (k + 1)\n",
    "\n",
    "    setfish[i] = newfish\n",
    "\n",
    "nfish = sum([val * lanternfish.count(k) for k, val in setfish.items()])\n",
    "\n",
    "print(f\"Number of lantern fish after {ndays} days is {nfish}\")\n",
    "\n",
    "complete(False)"
   ]
  },
  {
   "cell_type": "markdown",
   "metadata": {
    "id": "smMqi-tDssI6"
   },
   "source": [
    "# Day 7"
   ]
  },
  {
   "cell_type": "code",
   "execution_count": 32,
   "metadata": {
    "id": "ceQG5NSdsn0G"
   },
   "outputs": [],
   "source": [
    "inputdata = np.loadtxt(os.path.join(inputdir, \"day7.txt\"), delimiter=\",\").astype(int)"
   ]
  },
  {
   "cell_type": "markdown",
   "metadata": {
    "id": "H_5TxNIqGyR8"
   },
   "source": [
    "## Part 1"
   ]
  },
  {
   "cell_type": "code",
   "execution_count": 34,
   "metadata": {
    "colab": {
     "base_uri": "https://localhost:8080/"
    },
    "id": "EcMrBlcWG5Bu",
    "outputId": "54858bb4-0106-4e4d-b621-07abf4d15902"
   },
   "outputs": [
    {
     "name": "stdout",
     "output_type": "stream",
     "text": [
      "Spent fuel is 353800\n",
      "\n",
      "   _____                      _      _       \n",
      "  / ____|                    | |    | |      \n",
      " | |     ___  _ __ ___  _ __ | | ___| |_ ___ \n",
      " | |    / _ \\| '_ ` _ \\| '_ \\| |/ _ \\ __/ _ \\\n",
      " | |___| (_) | | | | | | |_) | |  __/ ||  __/\n",
      "  \\_____\\___/|_| |_| |_| .__/|_|\\___|\\__\\___|\n",
      "                       | |                   \n",
      "                       |_|                   \n",
      "\n"
     ]
    }
   ],
   "source": [
    "fuel = np.inf\n",
    "\n",
    "crabpositions = inputdata\n",
    "\n",
    "for i in range(min(crabpositions), max(crabpositions) + 1):\n",
    "    posfuel = np.sum(np.abs(crabpositions - i))\n",
    "    if posfuel < fuel:\n",
    "        fuel = posfuel\n",
    "\n",
    "print(f\"Spent fuel is {fuel}\")\n",
    "\n",
    "complete(True)"
   ]
  },
  {
   "cell_type": "markdown",
   "metadata": {
    "id": "qDpYmFWcHtjf"
   },
   "source": [
    "## Part 2"
   ]
  },
  {
   "cell_type": "code",
   "execution_count": 35,
   "metadata": {
    "colab": {
     "base_uri": "https://localhost:8080/"
    },
    "id": "QqFAzc3AHwfT",
    "outputId": "9437a7ee-7783-4622-e440-0252b6736354"
   },
   "outputs": [
    {
     "name": "stdout",
     "output_type": "stream",
     "text": [
      "Spent fuel is 98119739\n",
      "\n",
      "   _____                      _      _       \n",
      "  / ____|                    | |    | |      \n",
      " | |     ___  _ __ ___  _ __ | | ___| |_ ___ \n",
      " | |    / _ \\| '_ ` _ \\| '_ \\| |/ _ \\ __/ _ \\\n",
      " | |___| (_) | | | | | | |_) | |  __/ ||  __/\n",
      "  \\_____\\___/|_| |_| |_| .__/|_|\\___|\\__\\___|\n",
      "                       | |                   \n",
      "                       |_|                   \n",
      "\n"
     ]
    }
   ],
   "source": [
    "fuel = np.inf\n",
    "\n",
    "crabpositions = inputdata\n",
    "\n",
    "for i in range(min(crabpositions), max(crabpositions) + 1):\n",
    "    posfuel = np.sum([sum(range(1, val + 1)) for val in np.abs(crabpositions - i)])\n",
    "    if posfuel < fuel:\n",
    "        fuel = posfuel\n",
    "\n",
    "print(f\"Spent fuel is {fuel}\")\n",
    "\n",
    "complete(True)"
   ]
  },
  {
   "cell_type": "markdown",
   "metadata": {
    "id": "IkczxqBBu9wg"
   },
   "source": [
    "# Day 8"
   ]
  },
  {
   "cell_type": "markdown",
   "metadata": {},
   "source": [
    "## Part 1"
   ]
  },
  {
   "cell_type": "code",
   "execution_count": 37,
   "metadata": {
    "colab": {
     "base_uri": "https://localhost:8080/"
    },
    "id": "OX8Sm4N5vS5S",
    "outputId": "a62ca65d-f915-4109-f921-72d059828545"
   },
   "outputs": [
    {
     "name": "stdout",
     "output_type": "stream",
     "text": [
      "The total number of 1s, 4s, 7s and 8s is 278\n",
      "\n",
      "   _____                      _      _       \n",
      "  / ____|                    | |    | |      \n",
      " | |     ___  _ __ ___  _ __ | | ___| |_ ___ \n",
      " | |    / _ \\| '_ ` _ \\| '_ \\| |/ _ \\ __/ _ \\\n",
      " | |___| (_) | | | | | | |_) | |  __/ ||  __/\n",
      "  \\_____\\___/|_| |_| |_| .__/|_|\\___|\\__\\___|\n",
      "                       | |                   \n",
      "                       |_|                   \n",
      "\n"
     ]
    }
   ],
   "source": [
    "# parse data\n",
    "input = np.genfromtxt(os.path.join(inputdir, \"day8.txt\"), dtype=str, delimiter=\"|\")\n",
    "\n",
    "# get total number of 1s, 4s, 7s, and 8s\n",
    "ntot = 0\n",
    "for line in input:\n",
    "    for val in line[1].strip().split():\n",
    "        if len(val) in [2, 3, 4, 7]:\n",
    "            ntot += 1\n",
    "\n",
    "print(f\"The total number of 1s, 4s, 7s and 8s is {ntot}\")\n",
    "\n",
    "complete(True)"
   ]
  },
  {
   "cell_type": "markdown",
   "metadata": {},
   "source": [
    "## Part 2"
   ]
  },
  {
   "cell_type": "code",
   "execution_count": 39,
   "metadata": {
    "id": "7tGJ_O6Fy0sw"
   },
   "outputs": [
    {
     "name": "stdout",
     "output_type": "stream",
     "text": [
      "\n",
      "  _______ ____  _____   ____  \n",
      " |__   __/ __ \\|  __ \\ / __ \\ \n",
      "    | | | |  | | |  | | |  | |\n",
      "    | | | |  | | |  | | |  | |\n",
      "    | | | |__| | |__| | |__| |\n",
      "    |_|  \\____/|_____/ \\____/ \n",
      "\n"
     ]
    }
   ],
   "source": [
    "mappings = {\n",
    "    0: [\"a\", \"b\", \"c\", \"e\", \"f\", \"g\"],\n",
    "    1: [\"c\", \"f\"],\n",
    "    2: [\"a\", \"c\", \"d\", \"e\", \"g\"],\n",
    "    3: [\"a\", \"c\", \"d\", \"f\", \"g\"],\n",
    "    4: [\"b\", \"c\", \"d\", \"f\"],\n",
    "    5: [\"a\", \"b\", \"d\", \"f\", \"g\"],\n",
    "    6: [\"a\", \"b\", \"d\", \"e\", \"f\", \"g\"],\n",
    "    7: [\"a\", \"c\", \"f\"],\n",
    "    8: [\"a\", \"b\", \"c\", \"d\", \"e\", \"f\", \"g\"],\n",
    "    9: [\"a\", \"b\", \"c\", \"d\", \"f\", \"g\"]\n",
    "}\n",
    "\n",
    "entry = \"acedgfb cdfbe gcdfa fbcad dab cefabd cdfgeb eafb cagedb ab\"\n",
    "\n",
    "entries = entry.split()\n",
    "\n",
    "newmap = {\"a\": None, \"b\": None, \"c\": None, \"d\": None, \"e\": None, \"f\": None, \"g\": None}\n",
    "\n",
    "keyentries = [entry for entry in entries if len(entry) in [2, 3, 4, 7]]\n",
    "\n",
    "overlap = {\n",
    "    1: {\n",
    "        4: [letter for letter in mappings[1] if letter in mappings[4]],\n",
    "        7: [letter for letter in mappings[1] if letter in mappings[7]],\n",
    "        8: [letter for letter in mappings[1] if letter in mappings[8]]\n",
    "    },\n",
    "    4: {\n",
    "        7: [letter for letter in mappings[4] if letter in mappings[7]],\n",
    "        8: [letter for letter in mappings[4] if letter in mappings[8]],\n",
    "    },\n",
    "    7: {\n",
    "        8: [letter for letter in mappings[7] if letter in mappings[8]]\n",
    "    },\n",
    "}\n",
    "\n",
    "keyentriessorted = [e[1] for e in sorted(zip([len(entry) for entry in keyentries], keyentries))]\n",
    "\n",
    "seven_one = [val for val in list(keyentriessorted[1]) if val not in list(keyentriessorted[0])][0]\n",
    "newmap[\"a\"] = seven_one\n",
    "\n",
    "four_one = [val for val in list(keyentriessorted[2]) if val not in list(keyentriessorted[0])]\n",
    "\n",
    "\n",
    "for i, entry in zip([1, 4, 7, 8], keyentriessorted):\n",
    "    for val, newval in zip(mappings[i], list(entry)):\n",
    "        if val not in newmap.values():\n",
    "            newmap[newval] = val\n",
    "\n",
    "        # break if all positions have been filled\n",
    "        if all(newmap.values()):\n",
    "            break\n",
    "    if all(newmap.values()):\n",
    "        break\n",
    "\n",
    "complete(False)"
   ]
  },
  {
   "cell_type": "markdown",
   "metadata": {
    "id": "auHoLOVL07Fm"
   },
   "source": [
    "# Day 9"
   ]
  },
  {
   "cell_type": "code",
   "execution_count": 40,
   "metadata": {
    "id": "SgBF2MYt1LnD"
   },
   "outputs": [],
   "source": [
    "with open(os.path.join(inputdir, \"day9.txt\"), \"r\") as fp:\n",
    "    inputdata = fp.read()\n",
    "\n",
    "input = np.array([[int(val) for val in list(line.strip())] for line in inputdata.split(\"\\n\") if len(line.strip()) > 0])"
   ]
  },
  {
   "cell_type": "markdown",
   "metadata": {
    "id": "fz3sS1OJmPV7"
   },
   "source": [
    "## Part 1"
   ]
  },
  {
   "cell_type": "code",
   "execution_count": 41,
   "metadata": {
    "colab": {
     "base_uri": "https://localhost:8080/"
    },
    "id": "8hFPKd8q1NtN",
    "outputId": "04f7327a-e60b-4115-f186-e882690891b7"
   },
   "outputs": [
    {
     "name": "stdout",
     "output_type": "stream",
     "text": [
      "The risk level is 575\n",
      "\n",
      "   _____                      _      _       \n",
      "  / ____|                    | |    | |      \n",
      " | |     ___  _ __ ___  _ __ | | ___| |_ ___ \n",
      " | |    / _ \\| '_ ` _ \\| '_ \\| |/ _ \\ __/ _ \\\n",
      " | |___| (_) | | | | | | |_) | |  __/ ||  __/\n",
      "  \\_____\\___/|_| |_| |_| .__/|_|\\___|\\__\\___|\n",
      "                       | |                   \n",
      "                       |_|                   \n",
      "\n"
     ]
    }
   ],
   "source": [
    "risklevel = 0\n",
    "lowpoints = []\n",
    "\n",
    "for i, row in enumerate(input):\n",
    "    for j, col in enumerate(row):\n",
    "        comparitors = []\n",
    "\n",
    "        if j != len(row) - 1:\n",
    "            comparitors.append(row[j + 1])\n",
    "\n",
    "        if j != 0:\n",
    "            comparitors.append(row[j - 1])\n",
    "\n",
    "        if i != len(input) - 1:\n",
    "            comparitors.append(input[i + 1, j])\n",
    "\n",
    "        if i != 0:\n",
    "            comparitors.append(input[i - 1, j])\n",
    "\n",
    "        if np.all((col - np.array(comparitors)) < 0.0):\n",
    "            lowpoints.append((i, j))\n",
    "            risklevel += (1 + col)\n",
    "\n",
    "print(f\"The risk level is {risklevel}\")\n",
    "\n",
    "complete(True)"
   ]
  },
  {
   "cell_type": "markdown",
   "metadata": {
    "id": "LkksVLgcmaqi"
   },
   "source": [
    "## Part 2"
   ]
  },
  {
   "cell_type": "code",
   "execution_count": 42,
   "metadata": {
    "colab": {
     "base_uri": "https://localhost:8080/"
    },
    "id": "_pDOO9re5IFB",
    "outputId": "959314a8-a834-43ab-e238-8e537fb58989"
   },
   "outputs": [
    {
     "name": "stdout",
     "output_type": "stream",
     "text": [
      "The product of the largest 3 basins is 1019700\n",
      "\n",
      "   _____                      _      _       \n",
      "  / ____|                    | |    | |      \n",
      " | |     ___  _ __ ___  _ __ | | ___| |_ ___ \n",
      " | |    / _ \\| '_ ` _ \\| '_ \\| |/ _ \\ __/ _ \\\n",
      " | |___| (_) | | | | | | |_) | |  __/ ||  __/\n",
      "  \\_____\\___/|_| |_| |_| .__/|_|\\___|\\__\\___|\n",
      "                       | |                   \n",
      "                       |_|                   \n",
      "\n"
     ]
    }
   ],
   "source": [
    "storedpoints = []\n",
    "\n",
    "def checkadjacent(startpoint, prevpoint, input):\n",
    "    storedpoints.append(startpoint)\n",
    "\n",
    "    i, j = startpoint\n",
    "    adjacentpoints = []\n",
    "    adjacentpointvals = []\n",
    "    if j != input.shape[0] - 1:\n",
    "         if (i, j + 1) not in storedpoints:\n",
    "             adjacentpointvals.append(input[i, j + 1])\n",
    "             adjacentpoints.append((i, j + 1))\n",
    "\n",
    "    if j != 0:\n",
    "        if (i, j - 1) not in storedpoints:\n",
    "            adjacentpointvals.append(input[i, j - 1])\n",
    "            adjacentpoints.append((i, j - 1))\n",
    "\n",
    "    if i != input.shape[1] - 1:\n",
    "        if (i + 1, j) not in storedpoints:\n",
    "            adjacentpointvals.append(input[i + 1, j])\n",
    "            adjacentpoints.append((i + 1, j))\n",
    "\n",
    "    if i != 0:\n",
    "        if (i - 1, j) not in storedpoints: \n",
    "            adjacentpointvals.append(input[i - 1, j])\n",
    "            adjacentpoints.append((i - 1, j))\n",
    "\n",
    "    if len(adjacentpoints) == 0:\n",
    "        return\n",
    "\n",
    "    for point, pointval in zip(adjacentpoints, adjacentpointvals):\n",
    "        if pointval != 9 and point != startpoint:\n",
    "            checkadjacent(point, startpoint, input)\n",
    "\n",
    "    return\n",
    "\n",
    "basins = []\n",
    "\n",
    "for lowpoint in lowpoints:\n",
    "    storedpoints = []\n",
    "\n",
    "    checkadjacent(lowpoint, None, input)\n",
    "\n",
    "    basins.append(set(storedpoints))\n",
    "\n",
    "sizebasins = sorted(len(basin) for basin in basins)\n",
    "\n",
    "# get product of biggest three basin sizes\n",
    "multibasins = 1\n",
    "for basinsize in sizebasins[-3:]:\n",
    "    multibasins *= basinsize\n",
    "\n",
    "print(f\"The product of the largest 3 basins is {multibasins}\")\n",
    "\n",
    "complete(True)"
   ]
  },
  {
   "cell_type": "markdown",
   "metadata": {
    "id": "9YGh4suq6YUG"
   },
   "source": [
    "# Day 10"
   ]
  },
  {
   "cell_type": "code",
   "execution_count": 43,
   "metadata": {
    "id": "LfJj9MSNJI-N"
   },
   "outputs": [],
   "source": [
    "# get the input data\n",
    "with open(os.path.join(inputdir, \"day10.txt\"), \"r\") as fp:\n",
    "    inputdata = fp.read()"
   ]
  },
  {
   "cell_type": "markdown",
   "metadata": {
    "id": "5Ut6J1z96bPj"
   },
   "source": [
    "## Part 1"
   ]
  },
  {
   "cell_type": "code",
   "execution_count": 44,
   "metadata": {
    "colab": {
     "base_uri": "https://localhost:8080/"
    },
    "id": "4dNo-7HM6aGT",
    "outputId": "ed9d84e7-90b5-4b10-befc-74a288c1d6fe"
   },
   "outputs": [
    {
     "name": "stdout",
     "output_type": "stream",
     "text": [
      "Syntax error score is 321237\n",
      "\n",
      "   _____                      _      _       \n",
      "  / ____|                    | |    | |      \n",
      " | |     ___  _ __ ___  _ __ | | ___| |_ ___ \n",
      " | |    / _ \\| '_ ` _ \\| '_ \\| |/ _ \\ __/ _ \\\n",
      " | |___| (_) | | | | | | |_) | |  __/ ||  __/\n",
      "  \\_____\\___/|_| |_| |_| .__/|_|\\___|\\__\\___|\n",
      "                       | |                   \n",
      "                       |_|                   \n",
      "\n"
     ]
    }
   ],
   "source": [
    "pairs = [(\"(\", \")\"), (\"[\", \"]\"), (\"{\", \"}\"), (\"<\", \">\")]\n",
    "\n",
    "point = {\n",
    "    \")\": 3,\n",
    "    \"]\": 57,\n",
    "    \"}\": 1197,\n",
    "    \">\": 25137,\n",
    "}\n",
    "\n",
    "syntaxerrorscore = 0\n",
    "\n",
    "for line in inputdata.split(\"\\n\")[:-1]:\n",
    "    level = 0\n",
    "    levels = {}\n",
    "    end = False\n",
    "\n",
    "    for i, char in enumerate(line.strip()):\n",
    "        for pair in pairs:\n",
    "            if char == pair[0]:\n",
    "                level += 1\n",
    "                levels[level] = pair[0]\n",
    "                break\n",
    "            if char == pair[1]:\n",
    "                if levels[level] == pair[0]:\n",
    "                    del levels[level]\n",
    "                    level -= 1\n",
    "                    break\n",
    "                else:\n",
    "                    end = True\n",
    "                    break\n",
    "\n",
    "        if end:\n",
    "            break\n",
    "\n",
    "    if end:\n",
    "        syntaxerrorscore += point[line[i]]\n",
    "\n",
    "print(f\"Syntax error score is {syntaxerrorscore}\")\n",
    "\n",
    "complete(True)"
   ]
  },
  {
   "cell_type": "markdown",
   "metadata": {
    "id": "7xtQP-qpER-t"
   },
   "source": [
    "# Day 11"
   ]
  },
  {
   "cell_type": "code",
   "execution_count": 45,
   "metadata": {},
   "outputs": [],
   "source": [
    "# get the input data\n",
    "with open(os.path.join(inputdir, \"day11.txt\"), \"r\") as fp:\n",
    "    inputdata = fp.read()"
   ]
  },
  {
   "cell_type": "markdown",
   "metadata": {
    "id": "FzufowQWETmh"
   },
   "source": [
    "## Part 1\n"
   ]
  },
  {
   "cell_type": "code",
   "execution_count": 46,
   "metadata": {
    "colab": {
     "base_uri": "https://localhost:8080/"
    },
    "id": "O9z51XXVETAG",
    "outputId": "a8b4508d-5279-428a-b865-a1eec09f6310"
   },
   "outputs": [
    {
     "name": "stdout",
     "output_type": "stream",
     "text": [
      "[[4 4 5 7 5 0 0 0 0 0]\n",
      " [4 5 7 0 0 0 0 0 0 0]\n",
      " [4 6 0 0 0 6 6 0 0 0]\n",
      " [4 6 0 0 5 3 3 5 0 0]\n",
      " [5 6 6 9 3 2 2 3 5 0]\n",
      " [2 6 4 7 2 2 2 2 3 3]\n",
      " [2 9 7 9 2 2 2 2 2 2]\n",
      " [2 2 2 2 2 2 2 2 2 2]\n",
      " [3 3 2 2 2 2 2 2 2 2]\n",
      " [0 3 2 2 2 2 2 2 2 8]]\n",
      "Number of flashed after 100 iterations is 1688\n",
      "\n",
      "   _____                      _      _       \n",
      "  / ____|                    | |    | |      \n",
      " | |     ___  _ __ ___  _ __ | | ___| |_ ___ \n",
      " | |    / _ \\| '_ ` _ \\| '_ \\| |/ _ \\ __/ _ \\\n",
      " | |___| (_) | | | | | | |_) | |  __/ ||  __/\n",
      "  \\_____\\___/|_| |_| |_| .__/|_|\\___|\\__\\___|\n",
      "                       | |                   \n",
      "                       |_|                   \n",
      "\n"
     ]
    }
   ],
   "source": [
    "input = np.array([[int(i) for i in line.strip()] for line in inputdata.split(\"\\n\") if len(line.strip()) > 0])\n",
    "\n",
    "def step(input):\n",
    "    flashed = []\n",
    "    nflashed = len(flashed)\n",
    "\n",
    "    # increase values by 1\n",
    "    input += 1\n",
    "\n",
    "    prevflashes = 0\n",
    "\n",
    "    while True:\n",
    "        # flashes\n",
    "        flashes = np.argwhere(input > 9)\n",
    "         \n",
    "        for pos in flashes:\n",
    "            if [pos[0], pos[1]] not in flashed:\n",
    "                flashed.append([pos[0], pos[1]])\n",
    "\n",
    "        if prevflashes == flashes.shape[0]:\n",
    "            break\n",
    "\n",
    "        # add 1 on to adjacent values\n",
    "        for pos in flashed:\n",
    "            for i in range(-1, 2):\n",
    "                for j in range(-1, 2):\n",
    "                    x = pos[0] + i\n",
    "                    y = pos[1] + j\n",
    "\n",
    "                    if x >= 0 and y >= 0 and x < input.shape[0] and y < input.shape[1]:\n",
    "                        if not (x == pos[0] and y == pos[1]):\n",
    "                            input[x, y] += 1\n",
    "\n",
    "                            if [x, y] not in flashed and input[x, y] > 9:\n",
    "                                flashed.append([x, y])\n",
    "\n",
    "        prevflashes = len(flashed)\n",
    "\n",
    "    # set flashed octopuses to zero\n",
    "    zeros = input > 9\n",
    "    input[zeros] = 0\n",
    "    nflashes = np.sum(zeros)\n",
    "\n",
    "    return nflashes\n",
    "\n",
    "nflashes = 0\n",
    "for i in range(100):\n",
    "    nflashes += step(input)\n",
    "\n",
    "print(input)\n",
    "print(f\"Number of flashed after 100 iterations is {nflashes}\")\n",
    "\n",
    "complete(True)"
   ]
  },
  {
   "cell_type": "markdown",
   "metadata": {
    "id": "gL-7J-0udu41"
   },
   "source": [
    "## Part 2"
   ]
  },
  {
   "cell_type": "code",
   "execution_count": 47,
   "metadata": {
    "colab": {
     "base_uri": "https://localhost:8080/"
    },
    "id": "_rTx6Yo5dwLO",
    "outputId": "47d34319-1b89-4907-8078-b77a057d5c70"
   },
   "outputs": [
    {
     "name": "stdout",
     "output_type": "stream",
     "text": [
      "[[0 0 0 0 0 0 0 0 0 0]\n",
      " [0 0 0 0 0 0 0 0 0 0]\n",
      " [0 0 0 0 0 0 0 0 0 0]\n",
      " [0 0 0 0 0 0 0 0 0 0]\n",
      " [0 0 0 0 0 0 0 0 0 0]\n",
      " [0 0 0 0 0 0 0 0 0 0]\n",
      " [0 0 0 0 0 0 0 0 0 0]\n",
      " [0 0 0 0 0 0 0 0 0 0]\n",
      " [0 0 0 0 0 0 0 0 0 0]\n",
      " [0 0 0 0 0 0 0 0 0 0]]\n",
      "The number of steps when all octopuses flash is 403\n",
      "\n",
      "   _____                      _      _       \n",
      "  / ____|                    | |    | |      \n",
      " | |     ___  _ __ ___  _ __ | | ___| |_ ___ \n",
      " | |    / _ \\| '_ ` _ \\| '_ \\| |/ _ \\ __/ _ \\\n",
      " | |___| (_) | | | | | | |_) | |  __/ ||  __/\n",
      "  \\_____\\___/|_| |_| |_| .__/|_|\\___|\\__\\___|\n",
      "                       | |                   \n",
      "                       |_|                   \n",
      "\n"
     ]
    }
   ],
   "source": [
    "input = np.array([[int(i) for i in line.strip()] for line in inputdata.split(\"\\n\") if len(line.strip()) > 0])\n",
    "\n",
    "i = 1\n",
    "while True:\n",
    "    _ = step(input)\n",
    "\n",
    "    if input.sum() == 0:\n",
    "        break\n",
    "\n",
    "    i += 1\n",
    "\n",
    "print(input)\n",
    "print(f\"The number of steps when all octopuses flash is {i}\")\n",
    "\n",
    "complete(True)"
   ]
  },
  {
   "cell_type": "markdown",
   "metadata": {
    "id": "91hDOINlor05"
   },
   "source": [
    "# Day 12"
   ]
  },
  {
   "cell_type": "code",
   "execution_count": 48,
   "metadata": {},
   "outputs": [],
   "source": [
    "# get the input data\n",
    "with open(os.path.join(inputdir, \"day12.txt\"), \"r\") as fp:\n",
    "    inputdata = fp.read()"
   ]
  },
  {
   "cell_type": "markdown",
   "metadata": {},
   "source": [
    "## Part 1"
   ]
  },
  {
   "cell_type": "code",
   "execution_count": 50,
   "metadata": {
    "colab": {
     "base_uri": "https://localhost:8080/"
    },
    "id": "n0sy3k4fotBq",
    "outputId": "f69cf9ad-e660-451f-cd5c-90b4d887b154"
   },
   "outputs": [
    {
     "name": "stdout",
     "output_type": "stream",
     "text": [
      "{'start': {'connections': {'A': 'big', 'b': 'small'}}, 'A': {'connections': {'c': 'small', 'b': 'small', 'end': 'small'}}, 'b': {'connections': {'d': 'small', 'end': 'small'}}}\n"
     ]
    }
   ],
   "source": [
    "input = \"\"\"\\\n",
    "start-A\n",
    "start-b\n",
    "A-c\n",
    "A-b\n",
    "b-d\n",
    "A-end\n",
    "b-end\"\"\"\n",
    "\n",
    "nodes = {}\n",
    "\n",
    "for line in input.split(\"\\n\"):\n",
    "    a, b = line.strip().split(\"-\")\n",
    "\n",
    "    if a not in nodes:\n",
    "        nodes[a] = {\"connections\": {b: \"big\" if b.isupper() else \"small\"}}\n",
    "    else:\n",
    "        if b not in nodes[a][\"connections\"]:\n",
    "            nodes[a][\"connections\"][b] = \"big\" if b.isupper() else \"small\"\n",
    "\n",
    "print(nodes)"
   ]
  },
  {
   "cell_type": "code",
   "execution_count": 51,
   "metadata": {
    "colab": {
     "base_uri": "https://localhost:8080/"
    },
    "id": "Ykgt07EZpf9s",
    "outputId": "188c36a6-fae7-486f-82b3-9183117dd27b"
   },
   "outputs": [
    {
     "name": "stdout",
     "output_type": "stream",
     "text": [
      "start\n",
      "start\n",
      "{0: {'start': {}}, 1: {'start': {'nodes': ['A', 'b'], 'singlevisit': ['b']}}, 2: {'start': {'nodes': ['A', 'b'], 'singlevisit': ['b']}}}\n",
      "\n",
      "  _______ ____  _____   ____  \n",
      " |__   __/ __ \\|  __ \\ / __ \\ \n",
      "    | | | |  | | |  | | |  | |\n",
      "    | | | |  | | |  | | |  | |\n",
      "    | | | |__| | |__| | |__| |\n",
      "    |_|  \\____/|_____/ \\____/ \n",
      "\n"
     ]
    }
   ],
   "source": [
    "trips = []\n",
    "\n",
    "visitedbig = []\n",
    "visitedsmall = []\n",
    "\n",
    "positions = [\"start\"]\n",
    "\n",
    "branches = {0: {\"start\": {}}}\n",
    "\n",
    "level = 1\n",
    "\n",
    "while True:\n",
    "    for pos in positions:\n",
    "        print(pos)\n",
    "        branches[level] = {pos: {\"nodes\": list(nodes[pos][\"connections\"].keys()), \"singlevisit\": [con for con in nodes[pos][\"connections\"] if nodes[pos][\"connections\"][con] == \"small\"]}}\n",
    "\n",
    "    positions = list(branches[level].keys())\n",
    "\n",
    "    level += 1\n",
    "\n",
    "    if level == 3:\n",
    "        break\n",
    "\n",
    "\n",
    "print(branches)\n",
    "\n",
    "complete(False)"
   ]
  },
  {
   "cell_type": "markdown",
   "metadata": {
    "id": "D64FzA5ftPMV"
   },
   "source": [
    "# Day 13"
   ]
  },
  {
   "cell_type": "code",
   "execution_count": 98,
   "metadata": {},
   "outputs": [],
   "source": [
    "with open(os.path.join(inputdir, \"day13.txt\")) as fp:\n",
    "    inputdata = fp.readlines()"
   ]
  },
  {
   "cell_type": "markdown",
   "metadata": {},
   "source": [
    "## Part 1"
   ]
  },
  {
   "cell_type": "code",
   "execution_count": 100,
   "metadata": {},
   "outputs": [
    {
     "name": "stdout",
     "output_type": "stream",
     "text": [
      "Number of dots is 720\n",
      "\n",
      "   _____                      _      _       \n",
      "  / ____|                    | |    | |      \n",
      " | |     ___  _ __ ___  _ __ | | ___| |_ ___ \n",
      " | |    / _ \\| '_ ` _ \\| '_ \\| |/ _ \\ __/ _ \\\n",
      " | |___| (_) | | | | | | |_) | |  __/ ||  __/\n",
      "  \\_____\\___/|_| |_| |_| .__/|_|\\___|\\__\\___|\n",
      "                       | |                   \n",
      "                       |_|                   \n",
      "\n"
     ]
    }
   ],
   "source": [
    "def print_paper(paper):\n",
    "    top = \"┌\" + (\"-\" * paper.shape[1]) + \"┐\"\n",
    "    bottom = \"└\" + (\"-\" * paper.shape[1]) + \"┘\"\n",
    "    print(top)\n",
    "    for row in paper:\n",
    "        print(\"|\" + \"\".join([(\" \" if r == 0 else \"o\") for r in row]) + \"|\")\n",
    "    print(bottom)\n",
    "\n",
    "coords = np.array([[int(x) for x in coord.strip().split(\",\")] for coord in inputdata if \",\" in coord])\n",
    "folds = [[fold.strip().split(\"=\")[0][-1], int(fold.strip().split(\"=\")[1])] for fold in inputdata if \"f\" in fold]\n",
    "\n",
    "xmax = coords[:, 0].max()\n",
    "ymax = coords[:, 1].max()\n",
    "\n",
    "paper = np.full((ymax + 1, xmax + 1), 0)\n",
    "\n",
    "for coord in coords:\n",
    "    paper[coord[1], coord[0]] = 1\n",
    "\n",
    "# apply first fold only\n",
    "for fold in folds[:1]:\n",
    "    if fold[0] == \"y\":\n",
    "        top = np.copy(paper[:fold[1], :])\n",
    "        bottom = np.copy(np.flipud(paper[fold[1] + 1:, :]))\n",
    "        top[:bottom.shape[0], :] += bottom\n",
    "\n",
    "        paper = top\n",
    "    elif fold[0] == \"x\":\n",
    "        left = np.copy(paper[:, :fold[1]])\n",
    "        right = np.copy(np.fliplr(paper[:, fold[1] + 1:]))\n",
    "        left[:, :right.shape[1]] += right\n",
    "        \n",
    "        paper = left\n",
    "        \n",
    "    #print_paper(paper)\n",
    "    #print(\"\\n\")\n",
    "    \n",
    "ndots = np.sum(paper > 0)\n",
    "print(f\"Number of dots is {ndots}\")\n",
    "\n",
    "complete(True)"
   ]
  },
  {
   "cell_type": "markdown",
   "metadata": {},
   "source": [
    "## Part 2"
   ]
  },
  {
   "cell_type": "code",
   "execution_count": 102,
   "metadata": {},
   "outputs": [
    {
     "name": "stdout",
     "output_type": "stream",
     "text": [
      "┌----------------------------------------┐\n",
      "| oo  o  o ooo  ooo  ooo   oo  o  o oooo |\n",
      "|o  o o  o o  o o  o o  o o  o o  o    o |\n",
      "|o  o oooo o  o o  o o  o o  o o  o   o  |\n",
      "|oooo o  o ooo  ooo  ooo  oooo o  o  o   |\n",
      "|o  o o  o o    o o  o    o  o o  o o    |\n",
      "|o  o o  o o    o  o o    o  o  oo  oooo |\n",
      "└----------------------------------------┘\n",
      "\n",
      "   _____                      _      _       \n",
      "  / ____|                    | |    | |      \n",
      " | |     ___  _ __ ___  _ __ | | ___| |_ ___ \n",
      " | |    / _ \\| '_ ` _ \\| '_ \\| |/ _ \\ __/ _ \\\n",
      " | |___| (_) | | | | | | |_) | |  __/ ||  __/\n",
      "  \\_____\\___/|_| |_| |_| .__/|_|\\___|\\__\\___|\n",
      "                       | |                   \n",
      "                       |_|                   \n",
      "\n"
     ]
    }
   ],
   "source": [
    "paper = np.full((ymax + 1, xmax + 1), 0)\n",
    "\n",
    "for coord in coords:\n",
    "    paper[coord[1], coord[0]] = 1\n",
    "\n",
    "# apply all folds\n",
    "for fold in folds:\n",
    "    if fold[0] == \"y\":\n",
    "        top = np.copy(paper[:fold[1], :])\n",
    "        bottom = np.copy(np.flipud(paper[fold[1] + 1:, :]))\n",
    "        top[:bottom.shape[0], :] += bottom\n",
    "\n",
    "        paper = top\n",
    "    elif fold[0] == \"x\":\n",
    "        left = np.copy(paper[:, :fold[1]])\n",
    "        right = np.copy(np.fliplr(paper[:, fold[1] + 1:]))\n",
    "        left[:, :right.shape[1]] += right\n",
    "        \n",
    "        paper = left\n",
    "        \n",
    "print_paper(paper)\n",
    "\n",
    "complete(True)"
   ]
  }
 ],
 "metadata": {
  "colab": {
   "collapsed_sections": [],
   "name": "AdventOfCode2021",
   "provenance": []
  },
  "kernelspec": {
   "display_name": "Python 3 (ipykernel)",
   "language": "python",
   "name": "python3"
  },
  "language_info": {
   "codemirror_mode": {
    "name": "ipython",
    "version": 3
   },
   "file_extension": ".py",
   "mimetype": "text/x-python",
   "name": "python",
   "nbconvert_exporter": "python",
   "pygments_lexer": "ipython3",
   "version": "3.8.10"
  }
 },
 "nbformat": 4,
 "nbformat_minor": 1
}
