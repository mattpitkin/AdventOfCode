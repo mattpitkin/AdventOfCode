{
  "nbformat": 4,
  "nbformat_minor": 0,
  "metadata": {
    "colab": {
      "provenance": []
    },
    "kernelspec": {
      "name": "python3",
      "display_name": "Python 3"
    },
    "language_info": {
      "name": "python"
    }
  },
  "cells": [
    {
      "cell_type": "markdown",
      "source": [
        "# Advent of code 2022"
      ],
      "metadata": {
        "id": "JwoBMF0ZC0kx"
      }
    },
    {
      "cell_type": "markdown",
      "source": [
        "## Day 1\n",
        "\n",
        "See [here](https://adventofcode.com/2022/day/1)."
      ],
      "metadata": {
        "id": "ng94SlkfC4Kh"
      }
    },
    {
      "cell_type": "code",
      "execution_count": null,
      "metadata": {
        "colab": {
          "base_uri": "https://localhost:8080/"
        },
        "id": "8WXuNw9AB4Dr",
        "outputId": "819b6b85-a503-4f71-fba3-7aa3ba20988a"
      },
      "outputs": [
        {
          "output_type": "stream",
          "name": "stdout",
          "text": [
            "The largest number of calories is 73211\n"
          ]
        }
      ],
      "source": [
        "import numpy as np\n",
        "\n",
        "elvesfood = {}\n",
        "\n",
        "with open(\"day1input.txt\", \"r\") as fp:\n",
        "     data = fp.readlines()\n",
        "\n",
        "numelves = 1\n",
        "elvesfood[numelves] = {\"food\": []}\n",
        "maxcals = 0\n",
        "for line in data:\n",
        "    num = line.strip()\n",
        "\n",
        "    if not len(num):\n",
        "        # get total calories for current elf\n",
        "        elvesfood[numelves][\"totcals\"] = sum(elvesfood[numelves][\"food\"])\n",
        "        if elvesfood[numelves][\"totcals\"] > maxcals:\n",
        "            maxcals = elvesfood[numelves][\"totcals\"]\n",
        "\n",
        "        numelves += 1\n",
        "\n",
        "        # create entry for next elf\n",
        "        elvesfood[numelves] = {\"food\": []}\n",
        "        continue\n",
        "\n",
        "    elvesfood[numelves][\"food\"].append(int(num))\n",
        "\n",
        "# get calories for last elf\n",
        "elvesfood[numelves][\"totcals\"] = sum(elvesfood[numelves][\"food\"])\n",
        "if elvesfood[numelves][\"totcals\"] > maxcals:\n",
        "    maxcals = elvesfood[numelves][\"totcals\"]\n",
        "\n",
        "print(f\"The largest number of calories is {maxcals}\")"
      ]
    },
    {
      "cell_type": "code",
      "source": [
        "cals = sorted([elvesfood[elf][\"totcals\"] for elf in elvesfood])\n",
        "print(cals[-3:])\n",
        "print(f\"The total calories carried by the top three elves is {sum(cals[-3:])}\")"
      ],
      "metadata": {
        "colab": {
          "base_uri": "https://localhost:8080/"
        },
        "id": "c2CsmHe4E8Ae",
        "outputId": "1555d705-3a0a-49c6-9d77-24746125c49e"
      },
      "execution_count": null,
      "outputs": [
        {
          "output_type": "stream",
          "name": "stdout",
          "text": [
            "[69172, 71575, 73211]\n",
            "The total calories carried by the top three elves is 213958\n"
          ]
        }
      ]
    },
    {
      "cell_type": "code",
      "source": [
        "maxcals = np.zeros(3, dtype=int)\n",
        "\n",
        "with open(\"day1input.txt\", \"r\") as fp:\n",
        "     data = fp.readlines()\n",
        "\n",
        "N = len(data)\n",
        "calcount = 0\n",
        "for i in range(N):\n",
        "    num = data[i].strip()\n",
        "\n",
        "    if len(num):\n",
        "        calcount += int(num)\n",
        "    \n",
        "    if not len(num) or i == (N - 1):\n",
        "        gt = np.argwhere(calcount > maxcals).flatten()\n",
        "        if len(gt) > 0:\n",
        "             maxcals[gt[0]] = calcount\n",
        "        calcount = 0\n",
        "\n",
        "print(f\"The maximum number of calories is {max(maxcals)}\")\n",
        "print(f\"The sum of the top three calories is {sum(maxcals)}\")"
      ],
      "metadata": {
        "colab": {
          "base_uri": "https://localhost:8080/"
        },
        "id": "Hl9zmYxHFitz",
        "outputId": "fcad7dfc-7012-4f91-eff3-d31a86970ebe"
      },
      "execution_count": null,
      "outputs": [
        {
          "output_type": "stream",
          "name": "stdout",
          "text": [
            "The maximum number of calories is 73211\n",
            "The sum of the top three calories is 213958\n"
          ]
        }
      ]
    },
    {
      "cell_type": "markdown",
      "source": [
        "## Day 2\n",
        "\n",
        "See [here](https://adventofcode.com/2022/day/2)."
      ],
      "metadata": {
        "id": "eGP2iYJEJSqh"
      }
    },
    {
      "cell_type": "code",
      "source": [
        "with open(\"day2input.txt\", \"r\") as fp:\n",
        "    lines = fp.readlines()\n",
        "\n",
        "rules = {\n",
        "    \"X\": {\"match\": \"A\", \"beats\": \"C\", \"loses\": \"B\"},\n",
        "    \"Y\": {\"match\": \"B\", \"beats\": \"A\", \"loses\": \"C\"},\n",
        "    \"Z\": {\"match\": \"C\", \"beats\": \"B\", \"loses\": \"A\"},\n",
        "}\n",
        "\n",
        "scores = {\"X\": 1, \"Y\": 2, \"Z\": 3}\n",
        "\n",
        "matches = [l.strip().split() for l in lines]\n",
        "\n",
        "score = 0\n",
        "for match in matches:\n",
        "    score += scores[match[1]]\n",
        "    if match[0] == rules[match[1]][\"match\"]:\n",
        "        # draw\n",
        "        score += 3\n",
        "    elif match[0] == rules[match[1]][\"beats\"]:\n",
        "        # win\n",
        "        score += 6\n",
        "\n",
        "print(f\"Total score after all matches is {score}\")"
      ],
      "metadata": {
        "colab": {
          "base_uri": "https://localhost:8080/"
        },
        "id": "khR5_LofI9vr",
        "outputId": "24ccc89b-aa1a-4d94-b6cb-2205f94e104e"
      },
      "execution_count": null,
      "outputs": [
        {
          "output_type": "stream",
          "name": "stdout",
          "text": [
            "Total score after all matches is 13268\n"
          ]
        }
      ]
    },
    {
      "cell_type": "code",
      "source": [
        "newrules = {\n",
        "    \"X\": \"lose\",\n",
        "    \"Y\": \"draw\",\n",
        "    \"Z\": \"win\",\n",
        "}\n",
        "\n",
        "scores = {\n",
        "    \"A\": {\"score\": 1, \"loses\": \"B\", \"wins\": \"C\"},\n",
        "    \"B\": {\"score\": 2, \"loses\": \"C\", \"wins\": \"A\"},\n",
        "    \"C\": {\"score\": 3, \"loses\": \"A\", \"wins\": \"B\"},\n",
        "}\n",
        "\n",
        "\n",
        "score = 0\n",
        "for match in matches:\n",
        "    if newrules[match[1]] == \"lose\":\n",
        "        score += scores[scores[match[0]][\"wins\"]][\"score\"]\n",
        "    elif newrules[match[1]] == \"draw\":\n",
        "        score += 3\n",
        "        score += scores[match[0]][\"score\"]\n",
        "    else:\n",
        "        score += 6\n",
        "        score += scores[scores[match[0]][\"loses\"]][\"score\"]\n",
        "\n",
        "print(f\"Total score after all matches is {score}\")"
      ],
      "metadata": {
        "colab": {
          "base_uri": "https://localhost:8080/"
        },
        "id": "sq5-Rba1Ju3R",
        "outputId": "b3d9ff9b-11d3-4033-e724-31e080ea4a1e"
      },
      "execution_count": null,
      "outputs": [
        {
          "output_type": "stream",
          "name": "stdout",
          "text": [
            "Total score after all matches is 15508\n"
          ]
        }
      ]
    },
    {
      "cell_type": "markdown",
      "source": [
        "## Day 3\n",
        "\n",
        "See [here](https://adventofcode.com/2022/day/3)."
      ],
      "metadata": {
        "id": "jmPu7NOzggy-"
      }
    },
    {
      "cell_type": "code",
      "source": [
        "from string import ascii_lowercase, ascii_uppercase\n",
        "\n",
        "with open(\"day3input.txt\", \"r\") as fp:\n",
        "    lines = fp.readlines()\n",
        "\n",
        "letters = ascii_lowercase + ascii_uppercase\n",
        "priority = {l: i + 1 for i, l in enumerate(letters)}\n",
        "\n",
        "score = 0\n",
        "for line in lines:\n",
        "    bag = line.strip()\n",
        "    N = int(len(bag) // 2)\n",
        "    r1 = bag[:N]\n",
        "    r2 = bag[N:]\n",
        "\n",
        "    # find common item\n",
        "    for l in r1:\n",
        "        if l in r2:\n",
        "            break\n",
        "\n",
        "    score += priority[l]\n",
        "\n",
        "print(f\"The score is {score}\")"
      ],
      "metadata": {
        "id": "RNbXVmTcPmNL",
        "colab": {
          "base_uri": "https://localhost:8080/"
        },
        "outputId": "312671a1-3520-479c-cd91-4c25ce82e9e0"
      },
      "execution_count": null,
      "outputs": [
        {
          "output_type": "stream",
          "name": "stdout",
          "text": [
            "The score is 8039\n"
          ]
        }
      ]
    },
    {
      "cell_type": "code",
      "source": [
        "score = 0\n",
        "\n",
        "for i in range(0, len(lines), 3):\n",
        "    bag1 = lines[i].strip()\n",
        "    bag2 = lines[i + 1].strip()\n",
        "    bag3 = lines[i + 2].strip()\n",
        "\n",
        "    # find common item in all three bags\n",
        "    for l in bag1:\n",
        "        if l in bag2 and l in bag3:\n",
        "            break\n",
        "\n",
        "    score += priority[l]\n",
        "\n",
        "print(f\"The score is {score}\")"
      ],
      "metadata": {
        "colab": {
          "base_uri": "https://localhost:8080/"
        },
        "id": "s46LyToOgqHU",
        "outputId": "112664a4-c2a3-407a-c642-2e05e6b9c840"
      },
      "execution_count": null,
      "outputs": [
        {
          "output_type": "stream",
          "name": "stdout",
          "text": [
            "The score is 2510\n"
          ]
        }
      ]
    },
    {
      "cell_type": "markdown",
      "source": [
        "## Day 4\n",
        "\n",
        "See [here](https://adventofcode.com/2022/day/4)."
      ],
      "metadata": {
        "id": "_1fkw0lTfOFL"
      }
    },
    {
      "cell_type": "code",
      "source": [
        "with open(\"day4input.txt\", \"r\") as fp:\n",
        "    lines = fp.readlines()\n",
        "\n",
        "numcont = 0\n",
        "for line in lines:\n",
        "    p1, p2 = line.strip().split(\",\")\n",
        "\n",
        "    s1, e1 = p1.split(\"-\")\n",
        "    s2, e2 = p2.split(\"-\")\n",
        "\n",
        "    if (int(s1) >= int(s2) and int(e1) <= int(e2)) or (int(s2) >= int(s1) and int(e2) <= int(e1)):\n",
        "        numcont += 1\n",
        "\n",
        "print(f\"Number of ranges contained within the other range: {numcont}\")\n"
      ],
      "metadata": {
        "colab": {
          "base_uri": "https://localhost:8080/"
        },
        "id": "_FzIlbISke8-",
        "outputId": "31c30388-49a5-4fe6-fb7b-0d020ab34604"
      },
      "execution_count": null,
      "outputs": [
        {
          "output_type": "stream",
          "name": "stdout",
          "text": [
            "Number of ranges contained within the other range: 459\n"
          ]
        }
      ]
    },
    {
      "cell_type": "code",
      "source": [
        "numoverlap = 0\n",
        "for line in lines:\n",
        "    p1, p2 = line.strip().split(\",\")\n",
        "\n",
        "    s1, e1 = p1.split(\"-\")\n",
        "    s2, e2 = p2.split(\"-\")\n",
        "\n",
        "    if (\n",
        "        (int(s2) <= int(s1) <= int(e2)) or\n",
        "        (int(s2) <= int(e1) <= int(e2)) or\n",
        "        (int(s1) >= int(s2) and int(e1) <= int(e2)) or\n",
        "        (int(s2) >= int(s1) and int(e2) <= int(e1))\n",
        "    ):\n",
        "        numoverlap += 1\n",
        "\n",
        "print(f\"Number of ranges contained within the other range: {numoverlap}\")"
      ],
      "metadata": {
        "colab": {
          "base_uri": "https://localhost:8080/"
        },
        "id": "U1KgNfVxfrrK",
        "outputId": "3ab154b0-a496-469f-f5d1-37ee5b7876d8"
      },
      "execution_count": null,
      "outputs": [
        {
          "output_type": "stream",
          "name": "stdout",
          "text": [
            "Number of ranges contained within the other range: 779\n"
          ]
        }
      ]
    },
    {
      "cell_type": "markdown",
      "source": [
        "## Day 5\n",
        "\n",
        "See [here](https://adventofcode.com/2022/day/5)."
      ],
      "metadata": {
        "id": "EoytnYbYKMjZ"
      }
    },
    {
      "cell_type": "code",
      "source": [
        "with open(\"day5input.txt\", \"r\") as fp:\n",
        "    lines = fp.readlines()\n",
        "\n",
        "# get input stacks\n",
        "stacklines = []\n",
        "for line in lines:\n",
        "    if len(line.strip()) == 0:\n",
        "        break\n",
        "\n",
        "    stacklines.append(line.strip(\"\\n\"))\n",
        "\n",
        "# get stacks\n",
        "stacks = {}\n",
        "\n",
        "# number/position\n",
        "for i, pos in enumerate(stacklines[-1]):\n",
        "    if pos.isalnum():\n",
        "        ipos = int(pos)\n",
        "\n",
        "        stacks[ipos] = []\n",
        "        for line in stacklines[-2::-1]:\n",
        "            if line[i].isalnum():\n",
        "                stacks[ipos].append(line[i])\n",
        "\n",
        "\n",
        "# get moves\n",
        "for line in lines:\n",
        "    if line.startswith(\"move\"):\n",
        "        vals = line.split()\n",
        "        num = int(vals[1])\n",
        "        fromn = int(vals[3])\n",
        "        ton = int(vals[-1])\n",
        "\n",
        "        for i in range(num):\n",
        "            stacks[ton].append(stacks[fromn].pop(-1))\n",
        "\n",
        "print(f\"Top of stacks: {''.join([stacks[i][-1] for i in stacks])}\")"
      ],
      "metadata": {
        "id": "TiaMVqXlfvbl",
        "colab": {
          "base_uri": "https://localhost:8080/"
        },
        "outputId": "1c2e5e17-b8ce-41c3-cc2c-3a0cd4b0f4ad"
      },
      "execution_count": null,
      "outputs": [
        {
          "output_type": "stream",
          "name": "stdout",
          "text": [
            "Top of stacks: MQTPGLLDN\n"
          ]
        }
      ]
    },
    {
      "cell_type": "code",
      "source": [
        "# get input stacks\n",
        "stacklines = []\n",
        "for line in lines:\n",
        "    if len(line.strip()) == 0:\n",
        "        break\n",
        "\n",
        "    stacklines.append(line.strip(\"\\n\"))\n",
        "\n",
        "# get stacks\n",
        "stacks = {}\n",
        "\n",
        "# number/position\n",
        "for i, pos in enumerate(stacklines[-1]):\n",
        "    if pos.isalnum():\n",
        "        ipos = int(pos)\n",
        "\n",
        "        stacks[ipos] = []\n",
        "        for line in stacklines[-2::-1]:\n",
        "            if line[i].isalnum():\n",
        "                stacks[ipos].append(line[i])\n",
        "\n",
        "# get moves\n",
        "for line in lines:\n",
        "    if line.startswith(\"move\"):\n",
        "        vals = line.split()\n",
        "        num = int(vals[1])\n",
        "        fromn = int(vals[3])\n",
        "        ton = int(vals[-1])\n",
        "\n",
        "        moved = []\n",
        "        for i in range(num):\n",
        "            moved.append(stacks[fromn].pop(-1))\n",
        "\n",
        "        for t in moved[::-1]:\n",
        "            stacks[ton].append(t)\n",
        "\n",
        "print(f\"Top of stacks: {''.join([stacks[i][-1] for i in stacks])}\")"
      ],
      "metadata": {
        "colab": {
          "base_uri": "https://localhost:8080/"
        },
        "id": "z5rdfnTLLABH",
        "outputId": "007ba998-b2fd-4bdf-d5f4-8c26d5c10d34"
      },
      "execution_count": null,
      "outputs": [
        {
          "output_type": "stream",
          "name": "stdout",
          "text": [
            "Top of stacks: LVZPSTTCZ\n"
          ]
        }
      ]
    },
    {
      "cell_type": "markdown",
      "source": [
        "## Day 6\n",
        "\n",
        "See [here](https://adventofcode.com/2022/day/6)."
      ],
      "metadata": {
        "id": "V6Ii2sLqZR1U"
      }
    },
    {
      "cell_type": "code",
      "source": [
        "with open(\"day6input.txt\", \"r\") as fp:\n",
        "    data = fp.readlines()\n",
        "\n",
        "data = data[0].strip()\n",
        "\n",
        "import numpy as np\n",
        "\n",
        "for i in range(len(data) - 4):\n",
        "    if len(np.unique(list(data[i: i + 4]))) == 4:\n",
        "        break\n",
        "\n",
        "print(f\"Start of the sequence is at {i + 4}\")"
      ],
      "metadata": {
        "colab": {
          "base_uri": "https://localhost:8080/"
        },
        "id": "ZQAjEzm7QEtm",
        "outputId": "1ffd75a4-7acd-40ca-f65b-5c8fb16260fc"
      },
      "execution_count": null,
      "outputs": [
        {
          "output_type": "stream",
          "name": "stdout",
          "text": [
            "Start of the sequence is at 1760\n"
          ]
        }
      ]
    },
    {
      "cell_type": "code",
      "source": [
        "for i in range(len(data) - 14):\n",
        "    if len(np.unique(list(data[i: i + 14]))) == 14:\n",
        "        break\n",
        "\n",
        "print(f\"Start of the message is at {i + 14}\")"
      ],
      "metadata": {
        "colab": {
          "base_uri": "https://localhost:8080/"
        },
        "id": "9RN5DxRRZlTl",
        "outputId": "1422b994-926a-4b93-f410-d6f0b5b55138"
      },
      "execution_count": null,
      "outputs": [
        {
          "output_type": "stream",
          "name": "stdout",
          "text": [
            "Start of the message is at 2974\n"
          ]
        }
      ]
    },
    {
      "cell_type": "markdown",
      "source": [
        "## Day 7\n",
        "\n",
        "See [here](https://adventofcode.com/2022/day/7)."
      ],
      "metadata": {
        "id": "ty_Pu0_haS19"
      }
    },
    {
      "cell_type": "code",
      "source": [
        "class DirectoryTree:\n",
        "    def __init__(self):\n",
        "        self.prev = None\n",
        "        self.head = Directory(self.prev, \"/\")\n",
        "        self._cwd = self.head\n",
        "\n",
        "        self.rsizelim = 0\n",
        "        self.mindiff = 7000000000000\n",
        "        self.mindir = 0\n",
        "\n",
        "    @property\n",
        "    def cwd(self):\n",
        "        return self._cwd\n",
        "\n",
        "    def cd(self, directory):\n",
        "        \"\"\"\n",
        "        Change to new directory.\n",
        "        \"\"\"\n",
        "\n",
        "        dir = self.cwd\n",
        "\n",
        "        if directory in dir.subdirectories:\n",
        "            self._cwd = dir.subdirectories[directory]\n",
        "        elif directory == \"..\":\n",
        "            self._cwd = dir.parent\n",
        "\n",
        "    def add_directory(self, directory):\n",
        "        dir = self.cwd\n",
        "        dir.subdirectories[directory] = Directory(dir, directory)\n",
        "\n",
        "    def add_file(self, file, size):\n",
        "        dir = self.cwd\n",
        "        dir.files.append((file, size))\n",
        "        dir.size += size\n",
        "\n",
        "    def root(self):\n",
        "        self._cwd = self.head\n",
        "\n",
        "    def recursive_size(self, start=0, num=100000):\n",
        "        if start == 0:\n",
        "            dir = self.head\n",
        "        else:\n",
        "            dir = start\n",
        "\n",
        "        dir.recursive_size += dir.size\n",
        "\n",
        "        for subdir in dir.subdirectories:\n",
        "            dir.recursive_size += self.recursive_size(start=dir.subdirectories[subdir], num=num)\n",
        "\n",
        "        if dir.recursive_size <= num:\n",
        "            self.rsizelim += dir.recursive_size\n",
        "\n",
        "        return dir.recursive_size\n",
        "\n",
        "    def find_directory_to_delete(self, start=0, size=70000000):\n",
        "        unused = size - self.head.recursive_size\n",
        "\n",
        "        todelete = 30000000 - unused\n",
        "\n",
        "        if start == 0:\n",
        "            dir = self.head\n",
        "        else:\n",
        "            dir = start\n",
        "\n",
        "        if dir.recursive_size >= todelete:\n",
        "            diff = dir.recursive_size - todelete\n",
        "\n",
        "            if diff < self.mindiff:\n",
        "                self.mindiff = diff\n",
        "                self.mindir = dir.recursive_size\n",
        "\n",
        "        for subdir in dir.subdirectories:\n",
        "            self.find_directory_to_delete(start=dir.subdirectories[subdir], size=size)\n",
        "\n",
        "\n",
        "class Directory:\n",
        "    def __init__(self, parent, name):\n",
        "        self.name = name\n",
        "        self.parent = parent\n",
        "\n",
        "        self.subdirectories = {}\n",
        "        self.files = []\n",
        "\n",
        "        self.size = 0\n",
        "        self.recursive_size = 0\n",
        "\n",
        "\n",
        "# populate file system\n",
        "fs = DirectoryTree()\n",
        "\n",
        "with open(\"day7input.txt\", \"r\") as fp:\n",
        "    lines = fp.readlines()\n",
        "\n",
        "#testdata = \"\"\"$ cd /\n",
        "#$ ls\n",
        "#dir a\n",
        "#14848514 b.txt\n",
        "#8504156 c.dat\n",
        "#dir d\n",
        "#$ cd a\n",
        "#$ ls\n",
        "#dir e\n",
        "#29116 f\n",
        "#2557 g\n",
        "#62596 h.lst\n",
        "#$ cd e\n",
        "#$ ls\n",
        "#584 i\n",
        "#$ cd ..\n",
        "#$ cd ..\n",
        "#$ cd d\n",
        "#$ ls\n",
        "#4060174 j\n",
        "#8033020 d.log\n",
        "#5626152 d.ext\n",
        "#7214296 k\n",
        "#\"\"\"\n",
        "\n",
        "#lines = testdata.strip().split(\"\\n\")\n",
        "\n",
        "i = 0\n",
        "while i < len(lines):\n",
        "    line = lines[i].strip()\n",
        "    #print(i, line)\n",
        "\n",
        "    if line.startswith(\"$\"):\n",
        "        if line.strip(\"$\").strip().startswith(\"cd\"):\n",
        "            # get directory to change to\n",
        "            dirname = line.split()[-1]\n",
        "            fs.cd(dirname)\n",
        "            i += 1\n",
        "        elif line.strip(\"$\").strip().startswith(\"ls\"):\n",
        "            i += 1\n",
        "\n",
        "            while not lines[i].startswith(\"$\"):\n",
        "                # add in directories\n",
        "                line = lines[i].strip()\n",
        "\n",
        "                if line.startswith(\"dir\"):\n",
        "                    dirname = line.split()[-1]\n",
        "                    fs.add_directory(dirname)\n",
        "                else:\n",
        "                    # add in files\n",
        "                    fsize, fname = line.split()\n",
        "                    fs.add_file(fname, int(fsize))\n",
        "\n",
        "                i += 1\n",
        "                if i == len(lines):\n",
        "                    break\n",
        "\n",
        "\n",
        "fs.recursive_size()\n",
        "\n",
        "print(f\"Sum of directories with sizes <= 100000 is {fs.rsizelim}\")"
      ],
      "metadata": {
        "colab": {
          "base_uri": "https://localhost:8080/"
        },
        "id": "foub5RvFaAo9",
        "outputId": "c6b0cf39-5137-490b-e101-de3c0c350fdd"
      },
      "execution_count": null,
      "outputs": [
        {
          "output_type": "stream",
          "name": "stdout",
          "text": [
            "Sum of directories with sizes <= 100000 is 1084134\n"
          ]
        }
      ]
    },
    {
      "cell_type": "code",
      "source": [
        "fs.find_directory_to_delete()\n",
        "\n",
        "print(f\"Size of directory to delete is {fs.mindir}\")"
      ],
      "metadata": {
        "colab": {
          "base_uri": "https://localhost:8080/"
        },
        "id": "BPdvusrcC9mW",
        "outputId": "5bc41515-bd60-4767-dbd7-b96c3cebb7a6"
      },
      "execution_count": null,
      "outputs": [
        {
          "output_type": "stream",
          "name": "stdout",
          "text": [
            "Size of directory to delete is 6183184\n"
          ]
        }
      ]
    },
    {
      "cell_type": "markdown",
      "source": [
        "## Day 8\n",
        "\n",
        "See [here](https://adventofcode.com/2022/day/8)."
      ],
      "metadata": {
        "id": "Bwm5GH_-Rs4L"
      }
    },
    {
      "cell_type": "code",
      "source": [
        "import numpy as np\n",
        "\n",
        "grid = []\n",
        "with open(\"day8input.txt\", \"r\") as fp:\n",
        "    for line in fp.readlines():\n",
        "        grid.append(list(line.strip()))\n",
        "\n",
        "grid = np.array(grid)\n",
        "\n",
        "numvisible = 0\n",
        "nx, ny = grid.shape\n",
        "\n",
        "for i in range(1, nx - 1):\n",
        "    for j in range(1, ny - 1):\n",
        "        pos = grid[i, j]\n",
        "        left = grid[i, :j]\n",
        "        right = grid[i, j + 1:]\n",
        "        above = grid[:i, j]\n",
        "        below = grid[i + 1:, j]\n",
        "\n",
        "        for direction in [left, right, above, below]:\n",
        "            if sum(direction >= pos) == 0:\n",
        "                numvisible += 1\n",
        "                break\n",
        "\n",
        "# add edge trees\n",
        "numvisible += 2 * nx + 2 * (ny - 2)\n",
        "\n",
        "print(f\"Number of visible trees is {numvisible}\")"
      ],
      "metadata": {
        "id": "wun6fBrfC_sl",
        "colab": {
          "base_uri": "https://localhost:8080/"
        },
        "outputId": "863437c7-3ee8-4797-952a-e72e3b578d09"
      },
      "execution_count": null,
      "outputs": [
        {
          "output_type": "stream",
          "name": "stdout",
          "text": [
            "Number of visible trees is 1798\n"
          ]
        }
      ]
    },
    {
      "cell_type": "code",
      "source": [
        "maxscenic = 0\n",
        "\n",
        "for i in range(1, nx - 1):\n",
        "    for j in range(1, ny - 1):\n",
        "        pos = grid[i, j]\n",
        "        left = grid[i, :j]\n",
        "        right = grid[i, j + 1:]\n",
        "        above = grid[:i, j]\n",
        "        below = grid[i + 1:, j]\n",
        "\n",
        "        dists = []\n",
        "        for direction in [left[::-1], right, above[::-1], below]:\n",
        "            for k in range(len(direction)):\n",
        "                if direction[k] >= pos or k == len(direction) - 1:\n",
        "                    dists.append(k + 1)\n",
        "                    break\n",
        "\n",
        "        p = np.prod(dists)\n",
        "\n",
        "        if p > maxscenic:\n",
        "            maxscenic = p\n",
        "\n",
        "print(f\"Maximum scenic value is {maxscenic}\")"
      ],
      "metadata": {
        "colab": {
          "base_uri": "https://localhost:8080/"
        },
        "id": "oJcSOlUUVTbX",
        "outputId": "0af5b188-281d-4481-ba57-bc991d02994a"
      },
      "execution_count": null,
      "outputs": [
        {
          "output_type": "stream",
          "name": "stdout",
          "text": [
            "Maximum scenic value is 259308\n"
          ]
        }
      ]
    },
    {
      "cell_type": "markdown",
      "source": [
        "## Day 9\n",
        "\n",
        "See [here](https://adventofcode.com/2022/day/9)."
      ],
      "metadata": {
        "id": "Y4TH2NTiiKev"
      }
    },
    {
      "cell_type": "code",
      "source": [
        "import numpy as np\n",
        "\n",
        "with open(\"day9input.txt\", \"r\") as fp:\n",
        "    data = fp.readlines()\n",
        "\n",
        "headcur = [0, 0]\n",
        "headprev = [0, 0]\n",
        "tailcur = [0, 0]\n",
        "\n",
        "tailvisited = [tailcur]\n",
        "\n",
        "# get size of grid\n",
        "width = 0\n",
        "height = 0\n",
        "\n",
        "dirs = {\"R\": 0, \"L\": 0, \"U\": 0, \"D\": 0}\n",
        "\n",
        "for line in data:\n",
        "    dir, num = line.strip().split()\n",
        "    dirs[dir] += int(num)\n",
        "\n",
        "grid = np.zeros((dirs[\"L\"] + dirs[\"R\"], dirs[\"U\"] + dirs[\"D\"]), dtype=int) \n",
        "\n",
        "istart = dirs[\"L\"]\n",
        "jstart = dirs[\"D\"]\n",
        "\n",
        "headcur = [istart, jstart]\n",
        "tailcur = [istart, jstart]\n",
        "\n",
        "grid[tuple(tailcur)] = 1\n",
        "\n",
        "for line in data:\n",
        "    dir, num = line.strip().split()\n",
        "\n",
        "    for i in range(int(num)):\n",
        "        headprev = list(headcur)\n",
        "        if dir == \"L\":\n",
        "            headcur[0] -= 1\n",
        "        elif dir == \"R\":\n",
        "            headcur[0] += 1\n",
        "        elif dir == \"U\":\n",
        "            headcur[1] += 1\n",
        "        else:\n",
        "            headcur[1] -= 1\n",
        "\n",
        "        if abs(tailcur[1] - headcur[1]) == 2 or abs(tailcur[0] - headcur[0]) == 2:\n",
        "            tailcur = list(headprev)\n",
        "            grid[tuple(tailcur)] = 1\n",
        "\n",
        "print(f\"Number of positions visited by tail is {np.sum(grid)}\")"
      ],
      "metadata": {
        "colab": {
          "base_uri": "https://localhost:8080/"
        },
        "id": "dm-xhNE0iPbI",
        "outputId": "2ddbb293-10a0-4ae6-c920-568266294f9d"
      },
      "execution_count": null,
      "outputs": [
        {
          "output_type": "stream",
          "name": "stdout",
          "text": [
            "Number of positions visited by tail is 6026\n"
          ]
        }
      ]
    },
    {
      "cell_type": "code",
      "source": [
        "import copy\n",
        "\n",
        "grid = np.zeros((dirs[\"L\"] + dirs[\"R\"], dirs[\"U\"] + dirs[\"D\"]), dtype=int) \n",
        "\n",
        "#data = \"\"\"R 5\n",
        "#U 8\n",
        "#L 8\n",
        "#D 3\n",
        "#R 17\n",
        "#D 10\n",
        "#L 25\n",
        "#U 20\n",
        "#\"\"\"\n",
        "\n",
        "#data = data.strip().split(\"\\n\")\n",
        "\n",
        "#grid = np.zeros((22, 23), dtype=int)\n",
        "\n",
        "istart = dirs[\"L\"]\n",
        "jstart = dirs[\"D\"]\n",
        "\n",
        "#istart = 11\n",
        "#jstart = 6\n",
        "\n",
        "knots = [[istart, jstart] for i in range(10)]\n",
        "\n",
        "grid[tuple(knots[0])] = 1\n",
        "\n",
        "for line in data:\n",
        "    dir, num = line.strip().split()\n",
        "\n",
        "    for i in range(int(num)):\n",
        "        if dir == \"L\":\n",
        "            knots[0][0] -= 1\n",
        "        elif dir == \"R\":\n",
        "            knots[0][0] += 1\n",
        "        elif dir == \"U\":\n",
        "            knots[0][1] += 1\n",
        "        else:\n",
        "            knots[0][1] -= 1\n",
        "\n",
        "        # head down knots\n",
        "        for j in range(1, 10):\n",
        "            if abs(knots[j][1] - knots[j - 1][1]) == 2:\n",
        "                knots[j][1] -= np.sign(knots[j][1] - knots[j - 1][1])\n",
        "\n",
        "                if abs(knots[j][0] - knots[j - 1][0]) == 1:\n",
        "                    knots[j][0] -= np.sign(knots[j][0] - knots[j - 1][0])\n",
        "            elif abs(knots[j][0] - knots[j - 1][0]) == 2:\n",
        "                knots[j][0] -= np.sign(knots[j][0] - knots[j - 1][0])\n",
        "\n",
        "                if abs(knots[j][1] - knots[j - 1][1]) == 1:\n",
        "                    knots[j][1] -= np.sign(knots[j][1] - knots[j - 1][1])\n",
        "\n",
        "        grid[tuple(knots[-1])] = 1\n",
        "\n",
        "print(f\"Number of positions visited by tail is {np.sum(grid)}\")"
      ],
      "metadata": {
        "colab": {
          "base_uri": "https://localhost:8080/"
        },
        "id": "NrpAj9d6kmm5",
        "outputId": "5e270163-23a0-42c8-a9d2-6b1809622cb6"
      },
      "execution_count": null,
      "outputs": [
        {
          "output_type": "stream",
          "name": "stdout",
          "text": [
            "Number of positions visited by tail is 173\n"
          ]
        }
      ]
    },
    {
      "cell_type": "code",
      "source": [
        "grid.T"
      ],
      "metadata": {
        "colab": {
          "base_uri": "https://localhost:8080/"
        },
        "id": "1-kUobufyPjP",
        "outputId": "151fbc99-ed40-4422-8075-a45212f5b333"
      },
      "execution_count": null,
      "outputs": [
        {
          "output_type": "execute_result",
          "data": {
            "text/plain": [
              "array([[0, 0, 0, 0, 0, 0, 0, 0, 0, 0, 0, 0, 0, 0, 0, 0, 0, 0, 0, 0, 0, 0],\n",
              "       [0, 0, 0, 0, 0, 0, 0, 0, 0, 1, 1, 1, 1, 1, 1, 1, 1, 0, 0, 0, 0, 0],\n",
              "       [0, 0, 0, 0, 0, 0, 0, 0, 1, 0, 0, 0, 0, 0, 0, 0, 0, 1, 0, 0, 0, 0],\n",
              "       [0, 0, 0, 0, 0, 0, 0, 1, 0, 0, 0, 0, 0, 0, 0, 0, 0, 0, 1, 0, 0, 0],\n",
              "       [0, 0, 0, 0, 0, 0, 1, 0, 0, 0, 0, 0, 0, 0, 0, 0, 0, 0, 0, 1, 0, 0],\n",
              "       [0, 0, 0, 0, 0, 1, 0, 0, 0, 0, 0, 0, 0, 0, 0, 0, 0, 0, 0, 0, 1, 0],\n",
              "       [0, 0, 0, 0, 1, 0, 0, 0, 0, 0, 0, 1, 0, 0, 0, 0, 0, 0, 0, 0, 0, 1],\n",
              "       [0, 0, 0, 1, 0, 0, 0, 0, 0, 0, 0, 0, 1, 0, 0, 0, 0, 0, 0, 0, 1, 0],\n",
              "       [0, 0, 1, 0, 0, 0, 0, 0, 0, 0, 0, 0, 0, 1, 0, 0, 0, 0, 0, 1, 0, 0],\n",
              "       [0, 1, 0, 0, 0, 0, 0, 0, 0, 0, 0, 0, 1, 0, 0, 0, 0, 0, 1, 0, 0, 0],\n",
              "       [1, 0, 0, 0, 0, 0, 0, 0, 0, 0, 0, 0, 0, 1, 0, 0, 0, 1, 0, 0, 0, 0],\n",
              "       [1, 0, 0, 0, 0, 0, 0, 0, 0, 0, 0, 0, 0, 0, 1, 1, 1, 0, 0, 0, 0, 0],\n",
              "       [1, 0, 0, 0, 0, 0, 0, 0, 0, 0, 0, 0, 0, 0, 0, 0, 0, 0, 0, 0, 0, 0],\n",
              "       [0, 0, 0, 0, 0, 0, 0, 0, 0, 0, 0, 0, 0, 0, 0, 0, 0, 0, 0, 0, 0, 0],\n",
              "       [0, 0, 0, 0, 0, 0, 0, 0, 0, 0, 0, 0, 0, 0, 0, 0, 0, 0, 0, 0, 0, 0],\n",
              "       [0, 0, 0, 0, 0, 0, 0, 0, 0, 0, 0, 0, 0, 0, 0, 0, 0, 0, 0, 0, 0, 0],\n",
              "       [0, 0, 0, 0, 0, 0, 0, 0, 0, 0, 0, 0, 0, 0, 0, 0, 0, 0, 0, 0, 0, 0],\n",
              "       [0, 0, 0, 0, 0, 0, 0, 0, 0, 0, 0, 0, 0, 0, 0, 0, 0, 0, 0, 0, 0, 0],\n",
              "       [0, 0, 0, 0, 0, 0, 0, 0, 0, 0, 0, 0, 0, 0, 0, 0, 0, 0, 0, 0, 0, 0],\n",
              "       [0, 0, 0, 0, 0, 0, 0, 0, 0, 0, 0, 0, 0, 0, 0, 0, 0, 0, 0, 0, 0, 0],\n",
              "       [0, 0, 0, 0, 0, 0, 0, 0, 0, 0, 0, 0, 0, 0, 0, 0, 0, 0, 0, 0, 0, 0],\n",
              "       [0, 0, 0, 0, 0, 0, 0, 0, 0, 0, 0, 0, 0, 0, 0, 0, 0, 0, 0, 0, 0, 0],\n",
              "       [0, 0, 0, 0, 0, 0, 0, 0, 0, 0, 0, 0, 0, 0, 0, 0, 0, 0, 0, 0, 0, 0]])"
            ]
          },
          "metadata": {},
          "execution_count": 85
        }
      ]
    },
    {
      "cell_type": "code",
      "source": [],
      "metadata": {
        "id": "ypDTD4FY0caD"
      },
      "execution_count": null,
      "outputs": []
    },
    {
      "cell_type": "markdown",
      "source": [
        "## Day 10\n",
        "\n",
        "See [here](https://adventofcode.com/2022/day/10)."
      ],
      "metadata": {
        "id": "UVTdG0b-A4Qq"
      }
    },
    {
      "cell_type": "code",
      "source": [
        "import numpy as np\n",
        "\n",
        "with open(\"day10input.txt\", \"r\") as fp:\n",
        "    data = fp.readlines()\n",
        "\n",
        "X = 1\n",
        "\n",
        "signalstrength = 0\n",
        "cycle = 1\n",
        "for i, line in enumerate(data):\n",
        "    if cycle > 220:\n",
        "        break\n",
        "    \n",
        "    if line.startswith(\"noop\"):\n",
        "        if not (cycle - 20) % 40:\n",
        "            signalstrength += X * cycle\n",
        "        cycle += 1\n",
        "        continue\n",
        "    else:\n",
        "        num = int(line.split()[-1])\n",
        "\n",
        "        for i in range(2):\n",
        "            if not (cycle - 20) % 40:\n",
        "                signalstrength += X * cycle\n",
        "            cycle += 1\n",
        "\n",
        "        X += num\n",
        "\n",
        "print(signalstrength)"
      ],
      "metadata": {
        "colab": {
          "base_uri": "https://localhost:8080/"
        },
        "id": "-wuBuopQA352",
        "outputId": "2d663e41-9ce0-49d1-8253-dc4c5ab687cd"
      },
      "execution_count": null,
      "outputs": [
        {
          "output_type": "stream",
          "name": "stdout",
          "text": [
            "20 12\n",
            "60 4\n",
            "100 39\n",
            "140 22\n",
            "180 17\n",
            "220 21\n",
            "15140\n"
          ]
        }
      ]
    },
    {
      "cell_type": "code",
      "source": [],
      "metadata": {
        "id": "xAOtz_2LDbc3"
      },
      "execution_count": null,
      "outputs": []
    },
    {
      "cell_type": "markdown",
      "source": [
        "## Day 11\n",
        "\n",
        "See [here](https://adventofcode.com/2022/day/11)."
      ],
      "metadata": {
        "id": "2hXCye3fBLu0"
      }
    },
    {
      "cell_type": "code",
      "source": [
        "import numpy as np\n",
        "\n",
        "\n",
        "def make_fun(num, fun):\n",
        "    exec(f\"def f_make_fun_{num}(old): return {fun}\")\n",
        "    return locals()[f\"f_make_fun_{num}\"]\n",
        "\n",
        "\n",
        "class Monkey:\n",
        "    def __init__(self, monkey, num=0, worrydivisor=1):\n",
        "        for line in monkey:\n",
        "            if line.strip().startswith(\"Starting items\"):\n",
        "                items = line.split(\":\")[-1].strip().split(\",\")\n",
        "                self.items = [int(i) for i in items]\n",
        "            elif line.strip().startswith(\"Operation\"):\n",
        "                #self.op = line.strip().split(\"=\")[-1]\n",
        "                op = line.strip().split(\"=\")[-1]\n",
        "                self.operation = make_fun(num, op)\n",
        "            elif line.strip().startswith(\"Test\"):\n",
        "                self.divisible_by = int(line.strip().split()[-1])\n",
        "            elif \"true\" in line:\n",
        "                self.monkeytrue = int(line.strip().split()[-1])\n",
        "            elif \"false\" in line:\n",
        "                self.monkeyfalse = int(line.strip().split()[-1])\n",
        "\n",
        "        self.worrydivisor = worrydivisor\n",
        "\n",
        "        self.total_inspections = 0\n",
        "\n",
        "    #def operation(self, old):\n",
        "    #    return eval(self.op)\n",
        "\n",
        "    def throw_item(self):\n",
        "        item = self.items.pop(0)\n",
        "\n",
        "        worrylevel = self.operation(item)\n",
        "        worrylevel /= self.worrydivisor\n",
        "        worrylevel = np.floor(worrylevel)\n",
        "\n",
        "        self.total_inspections += 1\n",
        "\n",
        "        if (worrylevel / self.divisible_by).is_integer():\n",
        "            return int(worrylevel), self.monkeytrue\n",
        "        else:\n",
        "            return int(worrylevel), self.monkeyfalse\n",
        "\n",
        "\n",
        "def create_monkeys():\n",
        "    with open(\"day11input.txt\") as fp:\n",
        "        data = fp.read()\n",
        "\n",
        "    monkeytext = [m.strip().split(\"\\n\")[1:] for m in data.split(\"Monkey\")[1:]]\n",
        "\n",
        "    monkeys = {}\n",
        "    for i, monkey in enumerate(monkeytext):\n",
        "        monkeys[i] = Monkey(monkey, num=i, worrydivisor=3)\n",
        "\n",
        "    return monkeys\n",
        "\n",
        "\n",
        "monkeys = create_monkeys()\n",
        "\n",
        "nrounds = 20\n",
        "\n",
        "for i in range(nrounds):\n",
        "    for monkey in monkeys:\n",
        "        while len(monkeys[monkey].items) > 0:\n",
        "            wl, wm = monkeys[monkey].throw_item()\n",
        "            monkeys[wm].items.append(wl)\n",
        "\n",
        "for monkey in monkeys:\n",
        "    print(monkeys[monkey].total_inspections)\n",
        "\n",
        "mb = np.prod(sorted([monkeys[monkey].total_inspections for monkey in monkeys])[-2:])\n",
        "\n",
        "print(f\"Total level of monkey business is {mb}\")"
      ],
      "metadata": {
        "colab": {
          "base_uri": "https://localhost:8080/"
        },
        "id": "KPv9_xbpBQ65",
        "outputId": "c583998a-7c5e-4771-dc5c-d54bd414ef32"
      },
      "execution_count": null,
      "outputs": [
        {
          "output_type": "stream",
          "name": "stdout",
          "text": [
            "14\n",
            "332\n",
            "330\n",
            "21\n",
            "337\n",
            "344\n",
            "302\n",
            "349\n",
            "Total level of monkey business is 120056\n"
          ]
        }
      ]
    },
    {
      "cell_type": "code",
      "source": [
        "def create_monkeys():\n",
        "    with open(\"day11input.txt\") as fp:\n",
        "        data = fp.read()\n",
        "\n",
        "    monkeytext = [m.strip().split(\"\\n\")[1:] for m in data.split(\"Monkey\")[1:]]\n",
        "\n",
        "    monkeys = {}\n",
        "    for i, monkey in enumerate(monkeytext):\n",
        "        monkeys[i] = Monkey(monkey, num=i, worrydivisor=1)\n",
        "\n",
        "    return monkeys\n",
        "\n",
        "\n",
        "monkeys = create_monkeys()\n",
        "\n",
        "nrounds = 10\n",
        "\n",
        "inspections = {monkey: [] for monkey in monkeys}\n",
        "\n",
        "for i in range(nrounds):\n",
        "    for monkey in monkeys:\n",
        "        while len(monkeys[monkey].items) > 0:\n",
        "            wl, wm = monkeys[monkey].throw_item()\n",
        "            monkeys[wm].items.append(wl)\n",
        "        inspections[monkey].append(monkeys[monkey].total_inspections)\n",
        "\n",
        "mb = np.prod(sorted([monkeys[monkey].total_inspections for monkey in monkeys])[-2:])\n",
        "\n",
        "print(f\"Total level of monkey business is {mb}\")"
      ],
      "metadata": {
        "id": "U-8NO_OndsgO",
        "colab": {
          "base_uri": "https://localhost:8080/"
        },
        "outputId": "e3e10dda-ae67-499b-abde-cbfab9c3c898"
      },
      "execution_count": null,
      "outputs": [
        {
          "output_type": "stream",
          "name": "stdout",
          "text": [
            "Total level of monkey business is 23256\n"
          ]
        }
      ]
    },
    {
      "cell_type": "code",
      "source": [
        "from matplotlib import pyplot as plt\n",
        "\n",
        "plt.plot(range(1, 11), inspections[7])"
      ],
      "metadata": {
        "id": "SyGP5xGkvGtH",
        "colab": {
          "base_uri": "https://localhost:8080/",
          "height": 282
        },
        "outputId": "c79b268c-5aa4-4d43-ac92-c92d1445ab5b"
      },
      "execution_count": null,
      "outputs": [
        {
          "output_type": "execute_result",
          "data": {
            "text/plain": [
              "[<matplotlib.lines.Line2D at 0x7f34aedc2eb0>]"
            ]
          },
          "metadata": {},
          "execution_count": 14
        },
        {
          "output_type": "display_data",
          "data": {
            "text/plain": [
              "<Figure size 432x288 with 1 Axes>"
            ],
            "image/png": "[encoded data removed]"
          },
          "metadata": {
            "needs_background": "light"
          }
        }
      ]
    },
    {
      "cell_type": "code",
      "source": [],
      "metadata": {
        "id": "c2WgGfC-gwuN"
      },
      "execution_count": null,
      "outputs": []
    },
    {
      "cell_type": "markdown",
      "source": [
        "## Day 12\n",
        "\n",
        "See [here](https://adventofcode.com/2022/day/12)."
      ],
      "metadata": {
        "id": "kkLUj7lfhkGc"
      }
    },
    {
      "cell_type": "code",
      "source": [
        "from string import ascii_lowercase\n",
        "\n",
        "import numpy as np\n",
        "\n",
        "data = \"\"\"Sabqponm\n",
        "abcryxxl\n",
        "accszExk\n",
        "acctuvwj\n",
        "abdefghi\n",
        "\"\"\"\n",
        "\n",
        "height = {ascii_lowercase[i]: i for i in range(len(ascii_lowercase))}\n",
        "\n",
        "agrid = np.array([list(line.strip()) for line in data.strip().split(\"\\n\")])\n",
        "ngrid = np.zeros_like()\n",
        "\n",
        "start = np.argwhere(agrid == \"S\")[0]\n",
        "end = np.argwhere(agrid == \"E\")[0]\n",
        "\n",
        "minpath = 0\n",
        "\n",
        "def check_route(grid, pos):\n",
        "    possible = []\n",
        "    N, M = grid.shape\n",
        "    \n",
        "    height = grid[pos]\n",
        "\n",
        "    if 0 <= pos[0] - 1 < N:\n",
        "        if abs(grid[pos[0] - 1, pos[1]]\n",
        "        "
      ],
      "metadata": {
        "id": "X7d93bPvhpvL"
      },
      "execution_count": null,
      "outputs": []
    },
    {
      "cell_type": "code",
      "source": [
        "height"
      ],
      "metadata": {
        "colab": {
          "base_uri": "https://localhost:8080/"
        },
        "id": "NcXyYAv6iApi",
        "outputId": "bafae782-2954-416b-d67a-a08e5c01dd1b"
      },
      "execution_count": null,
      "outputs": [
        {
          "output_type": "execute_result",
          "data": {
            "text/plain": [
              "{'a': 0,\n",
              " 'b': 1,\n",
              " 'c': 2,\n",
              " 'd': 3,\n",
              " 'e': 4,\n",
              " 'f': 5,\n",
              " 'g': 6,\n",
              " 'h': 7,\n",
              " 'i': 8,\n",
              " 'j': 9,\n",
              " 'k': 10,\n",
              " 'l': 11,\n",
              " 'm': 12,\n",
              " 'n': 13,\n",
              " 'o': 14,\n",
              " 'p': 15,\n",
              " 'q': 16,\n",
              " 'r': 17,\n",
              " 's': 18,\n",
              " 't': 19,\n",
              " 'u': 20,\n",
              " 'v': 21,\n",
              " 'w': 22,\n",
              " 'x': 23,\n",
              " 'y': 24,\n",
              " 'z': 25}"
            ]
          },
          "metadata": {},
          "execution_count": 9
        }
      ]
    },
    {
      "cell_type": "markdown",
      "source": [
        "## Day 13\n",
        "\n",
        "See [here](https://adventofcode.com/2022/day/13)."
      ],
      "metadata": {
        "id": "89-LVTfTM1pN"
      }
    },
    {
      "cell_type": "code",
      "source": [
        "from ast import literal_eval\n",
        "\n",
        "with open(\"day13input.txt\", \"r\") as fp:\n",
        "    data = fp.readlines()\n",
        "\n",
        "data = [line.strip() for line in data]\n",
        "\n",
        "pairs = {}\n",
        "i = 0\n",
        "j = 1\n",
        "while True:\n",
        "     if len(data[i]) == 0:\n",
        "         i += 1\n",
        "         continue\n",
        "     else:\n",
        "         pairs[j] = [literal_eval(data[i]), literal_eval(data[i + 1])]\n",
        "         i += 2\n",
        "         j += 1\n",
        "\n",
        "     if i >= len(data):\n",
        "         break\n"
      ],
      "metadata": {
        "id": "zRFV2Cv5M--u"
      },
      "execution_count": null,
      "outputs": []
    },
    {
      "cell_type": "code",
      "source": [
        "correctidx = []\n",
        "\n",
        "def compare(left, right):\n",
        "    correct = 1\n",
        "    incorrect = -1\n",
        "    undecided = 0\n",
        "\n",
        "    if isinstance(left, int):\n",
        "        left = [left]\n",
        "    \n",
        "    if isinstance(right, int):\n",
        "        right = [right]\n",
        "\n",
        "    N = max([len(left), len(right)])\n",
        "\n",
        "    output = undecided\n",
        "    for i in range(N):\n",
        "        if i >= len(left):\n",
        "            output = correct\n",
        "            break\n",
        "        elif i >= len(right):\n",
        "            output = incorrect\n",
        "            break\n",
        "        elif isinstance(left[i], list) or isinstance(right[i], list):\n",
        "            output = compare(left[i], right[i])\n",
        "\n",
        "            if output != undecided:\n",
        "                break\n",
        "        elif left[i] < right[i]:\n",
        "            output = correct\n",
        "            break\n",
        "        elif left[i] > right[i]:\n",
        "            output = incorrect\n",
        "            break\n",
        "\n",
        "    return output\n",
        "\n",
        "\n",
        "sump = 0\n",
        "for pidx in pairs:\n",
        "    left = pairs[pidx][0]\n",
        "    right = pairs[pidx][1]\n",
        "\n",
        "    if compare(left, right) == 1:\n",
        "        sump += pidx\n",
        "\n",
        "print(f\"Sum of correct indices: {sump}\")"
      ],
      "metadata": {
        "colab": {
          "base_uri": "https://localhost:8080/"
        },
        "id": "WQHwjioqiHiK",
        "outputId": "fadb5e01-6375-4475-83fd-e3d305574284"
      },
      "execution_count": null,
      "outputs": [
        {
          "output_type": "stream",
          "name": "stdout",
          "text": [
            "Sum of correct indices: 4643\n"
          ]
        }
      ]
    },
    {
      "cell_type": "code",
      "source": [
        "from functools import cmp_to_key\n",
        "\n",
        "keyfunc = cmp_to_key(compare)\n",
        "\n",
        "listvals = [[[2]], [[6]]]\n",
        "for pidx in pairs:\n",
        "    listvals.append(pairs[pidx][0])\n",
        "    listvals.append(pairs[pidx][1])\n",
        "\n",
        "sortedlist = sorted(listvals, key=keyfunc, reverse=True)\n",
        "\n",
        "twoindex = sortedlist.index([[2]]) + 1\n",
        "sixindex = sortedlist.index([[6]]) + 1\n",
        "\n",
        "deckey = twoindex * sixindex\n",
        "\n",
        "print(f\"Decoder key is {deckey}\")"
      ],
      "metadata": {
        "colab": {
          "base_uri": "https://localhost:8080/"
        },
        "id": "H2f5S7xqO_YR",
        "outputId": "6f1d84da-06d8-487c-dab4-7d61142e87f8"
      },
      "execution_count": null,
      "outputs": [
        {
          "output_type": "stream",
          "name": "stdout",
          "text": [
            "Decoder key is 21614\n"
          ]
        }
      ]
    },
    {
      "cell_type": "markdown",
      "source": [
        "## Day 14\n",
        "\n",
        "See [here](https://adventofcode.com/2022/day/14)."
      ],
      "metadata": {
        "id": "I0PFCPduHxII"
      }
    },
    {
      "cell_type": "code",
      "source": [
        "import numpy as np\n",
        "\n",
        "#testinput = \"\"\"498,4 -> 498,6 -> 496,6\n",
        "#503,4 -> 502,4 -> 502,9 -> 494,9\n",
        "#\"\"\"\n",
        "\n",
        "with open(\"day14input.txt\", \"r\") as fp:\n",
        "    data = fp.readlines()\n",
        "\n",
        "starts = []\n",
        "ends = []\n",
        "\n",
        "maxx = 0\n",
        "minx = 10000000\n",
        "maxy = 0\n",
        "\n",
        "#for line in testinput.split(\"\\n\"):\n",
        "for line in data:\n",
        "    if len(line.strip()) > 0:\n",
        "        parts = line.strip().split(\"->\")\n",
        "        n = len(parts)\n",
        "\n",
        "        for i, part in enumerate(parts):\n",
        "            x, y = part.strip().split(\",\")\n",
        "             \n",
        "            if i < n - 1:\n",
        "                starts.append((int(x), int(y)))\n",
        "            if i > 0:\n",
        "                ends.append((int(x), int(y)))\n",
        "\n",
        "            if int(x) > maxx:\n",
        "                maxx = int(x)\n",
        "\n",
        "            if int(x) < minx:\n",
        "                minx = int(x)\n",
        "\n",
        "            if int(y) > maxy:\n",
        "                maxy = int(y)\n",
        "\n",
        "\n",
        "origin = [500, 0]\n",
        "\n",
        "dx = maxx - minx\n",
        "dy = maxy\n",
        "\n",
        "grid = np.full((dx + 1, dy + 1), \".\", dtype=str)\n",
        "\n",
        "offsetx = origin[0] - minx\n",
        "\n",
        "for start, end in zip(starts, ends):\n",
        "    x0, x1 = sorted([start[0] - minx, end[0] - minx])\n",
        "    y0, y1 = sorted([start[1], end[1]])\n",
        "    grid[x0:(x1 + 1), y0:(y1 + 1)] = \"#\"\n",
        "\n",
        "nsand = 0\n",
        "sandstart = [offsetx, 0]\n",
        "x, y = sandstart\n",
        "\n",
        "while True:\n",
        "    if grid[x, y + 1] == \".\":\n",
        "        # check sand can move down\n",
        "        y += 1\n",
        "    elif x - 1 >= 0 and x < dx + 1:\n",
        "        if grid[x - 1, y + 1] == \".\":\n",
        "            # check sand can move down and left\n",
        "            y += 1\n",
        "            x -= 1\n",
        "        elif grid[x + 1, y + 1] == \".\":\n",
        "            # check sand can move down and right\n",
        "            y += 1\n",
        "            x += 1\n",
        "        else:\n",
        "            # sand comes to rest\n",
        "            grid[x, y] = \"o\"\n",
        "            nsand += 1\n",
        "            x, y = sandstart  # reset new sand\n",
        "    else:\n",
        "        # sand goes over edge\n",
        "        break\n",
        "\n",
        "print(f\"Number of units of sand: {nsand}\")"
      ],
      "metadata": {
        "id": "riYxCekw1BnV",
        "colab": {
          "base_uri": "https://localhost:8080/"
        },
        "outputId": "62f2c7ae-ec53-46d8-a03a-93c2b1af6e7e"
      },
      "execution_count": 56,
      "outputs": [
        {
          "output_type": "stream",
          "name": "stdout",
          "text": [
            "Number of units of sand: 755\n"
          ]
        }
      ]
    },
    {
      "cell_type": "code",
      "source": [
        "#testinput = \"\"\"498,4 -> 498,6 -> 496,6\n",
        "#503,4 -> 502,4 -> 502,9 -> 494,9\n",
        "#\"\"\"\n",
        "\n",
        "with open(\"day14input.txt\", \"r\") as fp:\n",
        "    data = fp.readlines()\n",
        "\n",
        "starts = []\n",
        "ends = []\n",
        "\n",
        "maxx = 0\n",
        "minx = 10000000\n",
        "maxy = 0\n",
        "\n",
        "\n",
        "for line in data:\n",
        "    if len(line.strip()) > 0:\n",
        "        parts = line.strip().split(\"->\")\n",
        "        n = len(parts)\n",
        "\n",
        "        for i, part in enumerate(parts):\n",
        "            x, y = part.strip().split(\",\")\n",
        "             \n",
        "            if i < n - 1:\n",
        "                starts.append((int(x), int(y)))\n",
        "            if i > 0:\n",
        "                ends.append((int(x), int(y)))\n",
        "\n",
        "            if int(x) > maxx:\n",
        "                maxx = int(x)\n",
        "\n",
        "            if int(x) < minx:\n",
        "                minx = int(x)\n",
        "\n",
        "            if int(y) > maxy:\n",
        "                maxy = int(y)\n",
        "\n",
        "\n",
        "origin = [500, 0]\n",
        "\n",
        "# make sure x range is large enough to accomadate all sand\n",
        "dx = (maxx - minx)\n",
        "dy = maxy\n",
        "dx = dx + 2 * int(np.sqrt(dx**2 + dy**2))\n",
        "\n",
        "minx = origin[0] - int(dx / 2)\n",
        "\n",
        "grid = np.full((dx + 1, dy + 1 + 2), \".\", dtype=str)\n",
        "\n",
        "offsetx = origin[0] - minx\n",
        "\n",
        "for start, end in zip(starts, ends):\n",
        "    x0, x1 = sorted([start[0] - minx, end[0] - minx])\n",
        "    y0, y1 = sorted([start[1], end[1]])\n",
        "    grid[x0:(x1 + 1), y0:(y1 + 1)] = \"#\"\n",
        "\n",
        "grid[:, maxy + 2] = \"#\"\n",
        "\n",
        "# fill in grid with sand\n",
        "nsand = 0\n",
        "sandstart = [offsetx, 0]\n",
        "x, y = sandstart\n",
        "\n",
        "while True:\n",
        "    if grid[x, y + 1] == \".\":\n",
        "        # check sand can move down\n",
        "        y += 1\n",
        "    else:\n",
        "        if grid[x - 1, y + 1] == \".\":\n",
        "            # check sand can move down and left\n",
        "            y += 1\n",
        "            x -= 1\n",
        "        elif grid[x + 1, y + 1] == \".\":\n",
        "            # check sand can move down and right\n",
        "            y += 1\n",
        "            x += 1\n",
        "        else:\n",
        "            # sand comes to rest\n",
        "            grid[x, y] = \"o\"\n",
        "            nsand += 1\n",
        "            \n",
        "            if [x, y] == sandstart:\n",
        "                # sand at rest at origin\n",
        "                break\n",
        "            else:\n",
        "                x, y = sandstart  # reset new sand\n",
        "\n",
        "\n",
        "print(f\"Number of units of sand: {nsand}\")"
      ],
      "metadata": {
        "colab": {
          "base_uri": "https://localhost:8080/"
        },
        "id": "kH9ndKUqIdhI",
        "outputId": "5a2a97c8-acbd-4d3c-e4f7-a9fda45588ed"
      },
      "execution_count": 81,
      "outputs": [
        {
          "output_type": "stream",
          "name": "stdout",
          "text": [
            "Number of units of sand: 29805\n"
          ]
        }
      ]
    }
  ]
}